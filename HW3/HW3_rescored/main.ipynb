{
 "cells": [
  {
   "cell_type": "markdown",
   "id": "effective-sugar",
   "metadata": {},
   "source": [
    "# Boston House Prices Prediction\n",
    "- Kaggle 連結: https://www.kaggle.com/vikrishnan/boston-house-prices\n",
    "    - 供參考用，本次作業使用 scikit-learn 內裝的 dataset"
   ]
  },
  {
   "cell_type": "markdown",
   "id": "objective-motor",
   "metadata": {},
   "source": [
    "## 繳交規則\n",
    "\n",
    "1. 請將**當前資料夾**命名為 `FDA_HW3_你的學號`\n",
    "    - 例如：`FDA_HW3_F12345678`\n",
    "    - 所有**英文**都必須**大寫**\n",
    "    - 所有**文字**都必須在 **ASCII** 範圍\n",
    "2. 請將本檔案命名為 `main.ipynb`\n",
    "3. 請描述開發所需要的**環境**，包含：\n",
    "    - **作業系統**與**發行版本**\n",
    "        - 例如：Windows、Mac、Linux 等\n",
    "        - 需要填寫系統**名稱**與**版本**\n",
    "    - **程式執行環境**\n",
    "        - 例如：jupyter、kaggle kernel、colab 等\n",
    "        - 如果是 jupyter 請**填寫**版本\n",
    "        - 如果是雲端計算資源**不需填寫**版本\n",
    "        - 請**勿**使用**付費**資源，助教薪水**微薄**\n",
    "    - **python 版本**\n",
    "        - 例如：3.6.9\n",
    "        - 填寫**至少**能執行的版本即可\n",
    "    - **安裝環境**\n",
    "        - 例如使用 `pip`、`conda` 等\n",
    "        - 助教會以虛擬環境測試\n",
    "    - **安裝套件**與**版本**\n",
    "        - 請使用 `requirements.txt`\n",
    "        - 助教會以虛擬環境測試\n",
    "        - 請**不要**附上**多餘**的套件\n",
    "    - **計算資源**\n",
    "        - 使用 CPU **數量**\n",
    "        - GPU 版本\n",
    "    - **執行**所需花費**時間**\n",
    "        - 請**不要更改**擁有註解 `請勿更動此區塊程式碼` 的程式碼區塊\n",
    "4. 請**保留執行結果**讓助教可以直接觀看\n",
    "    - 請記得使用 **Save**\n",
    "    - **雲端**計算資源請**儲存**後**下載**檔案\n",
    "    - 所有程式區塊**必須依序執行**\n",
    "    - 請**不要**保留**多餘**的程式區塊\n",
    "5. 請**控制隨機亂數**讓實驗結果可以**重現**\n",
    "    - 關鍵字：**random seed**\n",
    "6. 請**不要**上傳**多餘**的檔案\n",
    "    - 不要上傳**隱藏**檔案，包含 `.git`、`.ipynb_checkpoints` 等\n",
    "    - 不要上傳**虛擬環境**\n",
    "7. 請附上**參考連結**\n",
    "    - 可以參考公開的 kernel\n",
    "    - 沒附上連結者視同**瓢竊**\n",
    "    - 使用的**演算法**請附上來源，並大致描述概念\n",
    "8. 請**壓縮**成 `zip` 並上傳至 [moodle](http://moodle.ncku.edu.tw/)\n",
    "    - 例如 `FDA_HW3_F12345678.zip`"
   ]
  },
  {
   "cell_type": "markdown",
   "id": "inappropriate-stock",
   "metadata": {},
   "source": [
    "## 評分標準\n",
    "\n",
    "如果有參考其他作法卻沒有附上來源，則直接視為瓢竊，得分為 $-\\infty$。\n",
    "\n",
    "### 扣分標準\n",
    "\n",
    "|規則|沒滿足規則失分|\n",
    "|-|-|\n",
    "|資料夾名稱符合繳交規則|-5|\n",
    "|檔案名稱符合繳交規則|-5|\n",
    "|填寫環境需求|-0|\n",
    "|填寫計算資源|-0|\n",
    "|提供 `requirements.txt`|-5|\n",
    "|將資料夾壓縮成 `zip`|-5|\n",
    "|不更改擁有註解 `請勿更動此區塊程式碼` 的程式碼區塊|-5|\n",
    "|計算並顯示執行時間|-5|\n",
    "|控制隨機亂數讓實驗結果可以重現|-5|\n",
    "\n",
    "### 得分標準\n",
    "\n",
    "|規則|滿足規則得分|\n",
    "|-|-|\n",
    "|在需要進行說明的cell以markdown語法進行說明|0|\n",
    "|TODO #1: 整理資料|+5|\n",
    "|TODO #2: 請進行統計各個 feature 的缺失值數目|+5|\n",
    "|TODO #3: 利用 Seaborn 畫箱型圖|+10|\n",
    "|TODO #4: 利用 Seaborn 進行 Heatmap 作圖|+10|\n",
    "|TODO #5: 挑選特徵|+10|\n",
    "|TODO #6: 呈現特徵分佈|+10|\n",
    "|TODO #7: 切分資料|+10|\n",
    "|TODO #8: 訓練 Linear Regression 模型|+10|\n",
    "|TODO #9: 訓練 Random Forest Regressor 模型|+10|\n",
    "|TODO #10: 參數調整|+10|\n",
    "|TODO #11: 訓練 其他的 regression 模型|+10|\n",
    "|(Bonus) TODO #12: 超越助教的分數|+10|"
   ]
  },
  {
   "cell_type": "code",
   "execution_count": null,
   "id": "unsigned-berlin",
   "metadata": {},
   "outputs": [],
   "source": [
    "# 請勿更動此區塊程式碼\n",
    "\n",
    "import time\n",
    "\n",
    "EXECUTION_START_TIME = time.time() # 計算執行時間"
   ]
  },
  {
   "cell_type": "code",
   "execution_count": null,
   "id": "sufficient-advocacy",
   "metadata": {},
   "outputs": [],
   "source": [
    "# 載入必要套件\n",
    "\n",
    "from sklearn.datasets import load_boston\n",
    "from sklearn.metrics import mean_squared_error as MSE\n",
    "import numpy as np\n",
    "import pandas as pd"
   ]
  },
  {
   "cell_type": "markdown",
   "id": "brief-education",
   "metadata": {},
   "source": [
    "## 載入資料"
   ]
  },
  {
   "cell_type": "code",
   "execution_count": null,
   "id": "excessive-contents",
   "metadata": {},
   "outputs": [],
   "source": [
    "# 使用 scikit-learn 的資料\n",
    "\n",
    "dataset = load_boston()\n",
    "print(type(dataset))"
   ]
  },
  {
   "cell_type": "code",
   "execution_count": null,
   "id": "solar-factory",
   "metadata": {},
   "outputs": [],
   "source": [
    "# 觀察資料的 key 值有哪些\n",
    "\n",
    "dataset.keys()"
   ]
  },
  {
   "cell_type": "markdown",
   "id": "floating-preliminary",
   "metadata": {},
   "source": [
    "## 資料前處理\n",
    "### TODO #1: \n",
    "- 請將資料以 Pandas 整理成 DataFrame 的型式\n",
    "- 欄位名稱為 feature_names"
   ]
  },
  {
   "cell_type": "code",
   "execution_count": null,
   "id": "constitutional-accommodation",
   "metadata": {},
   "outputs": [],
   "source": [
    "df = pd.DataFrame(\n",
    "    # Please put something here.\n",
    "    \n",
    ")"
   ]
  },
  {
   "cell_type": "code",
   "execution_count": null,
   "id": "stuck-thinking",
   "metadata": {},
   "outputs": [],
   "source": [
    "print(\"Number of features: \", len(dataset.feature_names))"
   ]
  },
  {
   "cell_type": "code",
   "execution_count": null,
   "id": "satisfactory-disease",
   "metadata": {},
   "outputs": [],
   "source": [
    "df['MEDV'] = dataset.target"
   ]
  },
  {
   "cell_type": "code",
   "execution_count": null,
   "id": "irish-terrorism",
   "metadata": {},
   "outputs": [],
   "source": [
    "df.head()"
   ]
  },
  {
   "cell_type": "markdown",
   "id": "limited-arctic",
   "metadata": {},
   "source": [
    "### TODO #2: 請進行統計各個 feature 的缺失值數目"
   ]
  },
  {
   "cell_type": "code",
   "execution_count": null,
   "id": "bigger-alfred",
   "metadata": {},
   "outputs": [],
   "source": [
    "# Please use some functions of Pandas here.\n"
   ]
  },
  {
   "cell_type": "code",
   "execution_count": null,
   "id": "representative-trade",
   "metadata": {},
   "outputs": [],
   "source": [
    "import seaborn as sns\n",
    "import matplotlib.pyplot as plt"
   ]
  },
  {
   "cell_type": "markdown",
   "id": "devoted-professor",
   "metadata": {},
   "source": [
    "## 觀察資料的特性"
   ]
  },
  {
   "cell_type": "markdown",
   "id": "promotional-banner",
   "metadata": {},
   "source": [
    "### TODO #3: 利用 Seaborn 畫箱型圖，並進行說明\n",
    "- 觀察每一個 features 的數值分佈\n",
    "- 可以用來決定是否要對資料的數值進行標準化"
   ]
  },
  {
   "cell_type": "code",
   "execution_count": null,
   "id": "secret-oxford",
   "metadata": {},
   "outputs": [],
   "source": [
    "plt.figure(figsize=(16, 9))\n",
    "# Plot a boxplot with Seaborn\n"
   ]
  },
  {
   "cell_type": "markdown",
   "id": "outdoor-symposium",
   "metadata": {},
   "source": [
    "### TODO #4: 利用 Seaborn 進行 Heatmap 作圖，並進行說明\n",
    "- 觀察每一個特徵與房價 (MEDV) 的關聯程度\n",
    "- 使用 dr.corr() 來計算 feature 和 feature 之間的關係係數\n",
    "- 數值愈高表示愈正相關，數值愈低表示愈負相關"
   ]
  },
  {
   "cell_type": "code",
   "execution_count": null,
   "id": "honey-adobe",
   "metadata": {},
   "outputs": [],
   "source": [
    "plt.figure(figsize=(16, 9))\n",
    "# Please use a function of Pandas here.\n",
    "\n",
    "# Plot a heatmap with Seaborn\n"
   ]
  },
  {
   "cell_type": "markdown",
   "id": "apparent-swedish",
   "metadata": {},
   "source": [
    "### TODO #5: 挑選特徵，並進行說明\n",
    "- 觀察 heatmap 中具有\"顯著\"正相關或是\"顯著\"負相關的特徵\n",
    "- 把這些特徵進行 concatenation，得到新的 dataframe"
   ]
  },
  {
   "cell_type": "code",
   "execution_count": null,
   "id": "loaded-belize",
   "metadata": {},
   "outputs": [],
   "source": [
    "X = pd.DataFrame(np.c_[], # Please put features inside the bracket\n",
    "                 columns =  # Please put feature names here \n",
    "                )"
   ]
  },
  {
   "cell_type": "markdown",
   "id": "objective-stretch",
   "metadata": {},
   "source": [
    "### TODO #6: 呈現特徵分佈，並進行說明\n",
    "- 把你選取到的\"重要特徵\"進行subplots，畫出散佈圖 (scatter plots)\n",
    "- 每一張圖的X軸是你選到的特徵、Y軸是房價('MEDV')"
   ]
  },
  {
   "cell_type": "code",
   "execution_count": null,
   "id": "specific-quantum",
   "metadata": {},
   "outputs": [],
   "source": [
    "# Please plot subplots here\n",
    "\n",
    "\n",
    "\n"
   ]
  },
  {
   "cell_type": "markdown",
   "id": "alleged-ontario",
   "metadata": {},
   "source": [
    "## 訓練模型前的準備\n",
    "### TODO #7: 切分資料\n",
    "- 利用 train_test_split，將資料切成 train set 和 test set\n",
    "- 設定 train set 的比例為全部資料的 80%\n",
    "- 請記得設定 random_state 以控制隨機過程"
   ]
  },
  {
   "cell_type": "code",
   "execution_count": null,
   "id": "renewable-bankruptcy",
   "metadata": {},
   "outputs": [],
   "source": [
    "from sklearn.model_selection import train_test_split\n",
    "\n",
    "X_train, X_test, Y_train, Y_test = \n",
    "\n",
    "print(X_train.shape) #(404, 2)\n",
    "print(X_test.shape) #(102, 2)\n",
    "print(Y_train.shape) #(404, )\n",
    "print(Y_test.shape) #(102, )"
   ]
  },
  {
   "cell_type": "markdown",
   "id": "expanded-longer",
   "metadata": {},
   "source": [
    "## 訓練模型並進行評估"
   ]
  },
  {
   "cell_type": "markdown",
   "id": "seasonal-honor",
   "metadata": {},
   "source": [
    "### TODO #8: 訓練 Linear Regression 模型，並說明訓練結果\n",
    "- 利用 scikit-learn，將資料 fit 在 LinearRegression\n",
    "- 將結果繪製成散佈圖 (scatter plot)，其中 X軸 為 Y_pred、Y軸為 Y_true"
   ]
  },
  {
   "cell_type": "code",
   "execution_count": null,
   "id": "vital-classics",
   "metadata": {},
   "outputs": [],
   "source": [
    "# Modeling\n",
    "from sklearn.linear_model import LinearRegression\n",
    "\n",
    "\n",
    "\n",
    "\n"
   ]
  },
  {
   "cell_type": "code",
   "execution_count": null,
   "id": "sixth-voltage",
   "metadata": {},
   "outputs": [],
   "source": [
    "# plotting the y_test vs y_pred\n",
    "\n",
    "\n",
    "\n",
    "\n",
    "\n"
   ]
  },
  {
   "cell_type": "markdown",
   "id": "progressive-perth",
   "metadata": {},
   "source": [
    "### TODO #9: 訓練 Random Forest Regressor 模型\n",
    "- 利用 scikit-learn，將資料 fit 在 RandomForestRegressor 模型\n",
    "- 將結果繪製成散佈圖 (scatter plot)，其中 X軸 為 Y_pred、Y軸為 Y_true"
   ]
  },
  {
   "cell_type": "code",
   "execution_count": null,
   "id": "third-yield",
   "metadata": {},
   "outputs": [],
   "source": [
    "from sklearn.ensemble import RandomForestRegressor"
   ]
  },
  {
   "cell_type": "code",
   "execution_count": null,
   "id": "homeless-twelve",
   "metadata": {},
   "outputs": [],
   "source": [
    "# Modeling\n",
    "\n",
    "\n",
    "\n",
    "\n"
   ]
  },
  {
   "cell_type": "code",
   "execution_count": null,
   "id": "temporal-strand",
   "metadata": {},
   "outputs": [],
   "source": [
    "# plotting the y_test vs y_pred\n",
    "\n",
    "\n",
    "\n",
    "\n",
    "\n"
   ]
  },
  {
   "cell_type": "markdown",
   "id": "presidential-scotland",
   "metadata": {},
   "source": [
    "### TODO #10: 參數調整，並進行說明\n",
    "- 請嘗試使用 Grid search 來進行調參\n",
    "    - 可以自己寫 for-loop\n",
    "    - 或是使用 sklearn.model_selection 中的 GridSearchCV 函式"
   ]
  },
  {
   "cell_type": "code",
   "execution_count": null,
   "id": "scheduled-wellington",
   "metadata": {},
   "outputs": [],
   "source": [
    "from sklearn.model_selection import GridSearchCV"
   ]
  },
  {
   "cell_type": "code",
   "execution_count": null,
   "id": "apart-thesaurus",
   "metadata": {},
   "outputs": [],
   "source": []
  },
  {
   "cell_type": "code",
   "execution_count": null,
   "id": "military-amsterdam",
   "metadata": {},
   "outputs": [],
   "source": []
  },
  {
   "cell_type": "markdown",
   "id": "regulation-holly",
   "metadata": {},
   "source": [
    "### TODO #11: 訓練 其他的 regression 模型，與上述兩種模型比較並說明訓練結果\n",
    "- 將資料 fit 在其他的迴歸模型，可選擇 SVR、XGBRegressor 或其他...\n",
    "- 利用 TODO #10 的工具來進行參數調整\n",
    "- 將結果繪製成散佈圖 (scatter plot)，其中 X軸 為 Y_pred、Y軸為 Y_true"
   ]
  },
  {
   "cell_type": "code",
   "execution_count": null,
   "id": "dominant-ideal",
   "metadata": {},
   "outputs": [],
   "source": []
  },
  {
   "cell_type": "code",
   "execution_count": null,
   "id": "assigned-carry",
   "metadata": {},
   "outputs": [],
   "source": []
  },
  {
   "cell_type": "code",
   "execution_count": null,
   "id": "weird-humanity",
   "metadata": {},
   "outputs": [],
   "source": []
  },
  {
   "cell_type": "markdown",
   "id": "continuous-vampire",
   "metadata": {},
   "source": [
    "### (Bonus) TODO #12: 超越助教的分數，並且說明如何做到\n",
    "- R2:  0.8831229012211493\n",
    "- Test loss (MSE):  9.150760226336033"
   ]
  },
  {
   "cell_type": "code",
   "execution_count": null,
   "id": "legendary-integration",
   "metadata": {},
   "outputs": [],
   "source": [
    "# 請勿更動此區塊程式碼\n",
    "\n",
    "EXECUTION_END_TIME = time.time() # 計算執行時間\n",
    "print('total execution time: {}'.format(EXECUTION_END_TIME - EXECUTION_START_TIME))"
   ]
  }
 ],
 "metadata": {
  "kernelspec": {
   "display_name": "Python 3",
   "language": "python",
   "name": "python3"
  },
  "language_info": {
   "codemirror_mode": {
    "name": "ipython",
    "version": 3
   },
   "file_extension": ".py",
   "mimetype": "text/x-python",
   "name": "python",
   "nbconvert_exporter": "python",
   "pygments_lexer": "ipython3",
   "version": "3.8.5"
  }
 },
 "nbformat": 4,
 "nbformat_minor": 5
}
