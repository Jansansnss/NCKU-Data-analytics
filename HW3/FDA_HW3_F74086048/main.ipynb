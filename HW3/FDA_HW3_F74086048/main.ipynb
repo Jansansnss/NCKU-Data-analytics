{
  "cells": [
    {
      "cell_type": "markdown",
      "id": "effective-sugar",
      "metadata": {
        "id": "effective-sugar"
      },
      "source": [
        "# Boston House Prices Prediction\n",
        "- Kaggle 連結: https://www.kaggle.com/vikrishnan/boston-house-prices\n",
        "    - 供參考用，本次作業使用 scikit-learn 內裝的 dataset"
      ]
    },
    {
      "cell_type": "markdown",
      "id": "objective-motor",
      "metadata": {
        "id": "objective-motor"
      },
      "source": [
        "## 繳交規則\n",
        "\n",
        "1. 請將**當前資料夾**命名為 `FDA_HW3_你的學號`\n",
        "    - 例如：`FDA_HW3_F12345678`\n",
        "    - 所有**英文**都必須**大寫**\n",
        "    - 所有**文字**都必須在 **ASCII** 範圍\n",
        "2. 請將本檔案命名為 `main.ipynb`\n",
        "3. 請描述開發所需要的**環境**，包含：\n",
        "    - **作業系統**與**發行版本**\n",
        "        - 例如：Windows、Mac、Linux 等\n",
        "        - 需要填寫系統**名稱**與**版本**\n",
        "    - **程式執行環境**\n",
        "        - 例如：jupyter、kaggle kernel、colab 等\n",
        "        - 如果是 jupyter 請**填寫**版本\n",
        "        - 如果是雲端計算資源**不需填寫**版本\n",
        "        - 請**勿**使用**付費**資源，助教薪水**微薄**\n",
        "    - **python 版本**\n",
        "        - 例如：3.6.9\n",
        "        - 填寫**至少**能執行的版本即可\n",
        "    - **安裝環境**\n",
        "        - 例如使用 `pip`、`conda` 等\n",
        "        - 助教會以虛擬環境測試\n",
        "    - **安裝套件**與**版本**\n",
        "        - 請使用 `requirements.txt`\n",
        "        - 助教會以虛擬環境測試\n",
        "        - 請**不要**附上**多餘**的套件\n",
        "    - **計算資源**\n",
        "        - 使用 CPU **數量**\n",
        "        - GPU 版本\n",
        "    - **執行**所需花費**時間**\n",
        "        - 請**不要更改**擁有註解 `請勿更動此區塊程式碼` 的程式碼區塊\n",
        "4. 請**保留執行結果**讓助教可以直接觀看\n",
        "    - 請記得使用 **Save**\n",
        "    - **雲端**計算資源請**儲存**後**下載**檔案\n",
        "    - 所有程式區塊**必須依序執行**\n",
        "    - 請**不要**保留**多餘**的程式區塊\n",
        "5. 請**控制隨機亂數**讓實驗結果可以**重現**\n",
        "    - 關鍵字：**random seed**\n",
        "6. 請**不要**上傳**多餘**的檔案\n",
        "    - 不要上傳**隱藏**檔案，包含 `.git`、`.ipynb_checkpoints` 等\n",
        "    - 不要上傳**虛擬環境**\n",
        "7. 請附上**參考連結**\n",
        "    - 可以參考公開的 kernel\n",
        "    - 沒附上連結者視同**瓢竊**\n",
        "    - 使用的**演算法**請附上來源，並大致描述概念\n",
        "8. 請**壓縮**成 `zip` 並上傳至 [moodle](http://moodle.ncku.edu.tw/)\n",
        "    - 例如 `FDA_HW3_F12345678.zip`"
      ]
    },
    {
      "cell_type": "markdown",
      "id": "inappropriate-stock",
      "metadata": {
        "id": "inappropriate-stock"
      },
      "source": [
        "## 評分標準\n",
        "\n",
        "如果有參考其他作法卻沒有附上來源，則直接視為瓢竊，得分為 $-\\infty$。\n",
        "\n",
        "### 扣分標準\n",
        "\n",
        "|規則|沒滿足規則失分|\n",
        "|-|-|\n",
        "|資料夾名稱符合繳交規則|-5|\n",
        "|檔案名稱符合繳交規則|-5|\n",
        "|填寫環境需求|-0|\n",
        "|填寫計算資源|-0|\n",
        "|提供 `requirements.txt`|-5|\n",
        "|將資料夾壓縮成 `zip`|-5|\n",
        "|不更改擁有註解 `請勿更動此區塊程式碼` 的程式碼區塊|-5|\n",
        "|計算並顯示執行時間|-5|\n",
        "|控制隨機亂數讓實驗結果可以重現|-5|\n",
        "\n",
        "### 得分標準\n",
        "\n",
        "|規則|滿足規則得分|\n",
        "|-|-|\n",
        "|在需要進行說明的cell以markdown語法進行說明|0|\n",
        "|TODO #1: 整理資料|+5|\n",
        "|TODO #2: 請進行統計各個 feature 的缺失值數目|+5|\n",
        "|TODO #3: 利用 Seaborn 畫箱型圖|+10|\n",
        "|TODO #4: 利用 Seaborn 進行 Heatmap 作圖|+10|\n",
        "|TODO #5: 挑選特徵|+10|\n",
        "|TODO #6: 呈現特徵分佈|+10|\n",
        "|TODO #7: 切分資料|+10|\n",
        "|TODO #8: 訓練 Linear Regression 模型|+10|\n",
        "|TODO #9: 訓練 Random Forest Regressor 模型|+10|\n",
        "|TODO #10: 參數調整|+10|\n",
        "|TODO #11: 訓練 其他的 regression 模型|+10|\n",
        "|(Bonus) TODO #12: 超越助教的分數|+10|"
      ]
    },
    {
      "cell_type": "code",
      "execution_count": 133,
      "id": "unsigned-berlin",
      "metadata": {
        "id": "unsigned-berlin"
      },
      "outputs": [],
      "source": [
        "# 請勿更動此區塊程式碼\n",
        "\n",
        "import time\n",
        "\n",
        "EXECUTION_START_TIME = time.time() # 計算執行時間"
      ]
    },
    {
      "cell_type": "code",
      "execution_count": 134,
      "id": "sufficient-advocacy",
      "metadata": {
        "id": "sufficient-advocacy"
      },
      "outputs": [],
      "source": [
        "# 載入必要套件\n",
        "\n",
        "from sklearn.datasets import load_boston\n",
        "from sklearn.metrics import mean_squared_error as MSE\n",
        "import numpy as np\n",
        "import pandas as pd"
      ]
    },
    {
      "cell_type": "markdown",
      "id": "brief-education",
      "metadata": {
        "id": "brief-education"
      },
      "source": [
        "## 載入資料"
      ]
    },
    {
      "cell_type": "code",
      "execution_count": 135,
      "id": "excessive-contents",
      "metadata": {
        "colab": {
          "base_uri": "https://localhost:8080/"
        },
        "id": "excessive-contents",
        "outputId": "5ff0e6a5-ddc7-4a14-bbb6-431bc68a4f23"
      },
      "outputs": [
        {
          "output_type": "stream",
          "name": "stdout",
          "text": [
            "<class 'sklearn.utils.Bunch'>\n"
          ]
        },
        {
          "output_type": "stream",
          "name": "stderr",
          "text": [
            "/usr/local/lib/python3.7/dist-packages/sklearn/utils/deprecation.py:87: FutureWarning: Function load_boston is deprecated; `load_boston` is deprecated in 1.0 and will be removed in 1.2.\n",
            "\n",
            "    The Boston housing prices dataset has an ethical problem. You can refer to\n",
            "    the documentation of this function for further details.\n",
            "\n",
            "    The scikit-learn maintainers therefore strongly discourage the use of this\n",
            "    dataset unless the purpose of the code is to study and educate about\n",
            "    ethical issues in data science and machine learning.\n",
            "\n",
            "    In this special case, you can fetch the dataset from the original\n",
            "    source::\n",
            "\n",
            "        import pandas as pd\n",
            "        import numpy as np\n",
            "\n",
            "\n",
            "        data_url = \"http://lib.stat.cmu.edu/datasets/boston\"\n",
            "        raw_df = pd.read_csv(data_url, sep=\"\\s+\", skiprows=22, header=None)\n",
            "        data = np.hstack([raw_df.values[::2, :], raw_df.values[1::2, :2]])\n",
            "        target = raw_df.values[1::2, 2]\n",
            "\n",
            "    Alternative datasets include the California housing dataset (i.e.\n",
            "    :func:`~sklearn.datasets.fetch_california_housing`) and the Ames housing\n",
            "    dataset. You can load the datasets as follows::\n",
            "\n",
            "        from sklearn.datasets import fetch_california_housing\n",
            "        housing = fetch_california_housing()\n",
            "\n",
            "    for the California housing dataset and::\n",
            "\n",
            "        from sklearn.datasets import fetch_openml\n",
            "        housing = fetch_openml(name=\"house_prices\", as_frame=True)\n",
            "\n",
            "    for the Ames housing dataset.\n",
            "    \n",
            "  warnings.warn(msg, category=FutureWarning)\n"
          ]
        }
      ],
      "source": [
        "# 使用 scikit-learn 的資料\n",
        "\n",
        "dataset = load_boston()\n",
        "print(type(dataset))"
      ]
    },
    {
      "cell_type": "code",
      "execution_count": 136,
      "id": "solar-factory",
      "metadata": {
        "colab": {
          "base_uri": "https://localhost:8080/"
        },
        "id": "solar-factory",
        "outputId": "3774b4c7-ff6b-48f9-af91-da657ab4aaea"
      },
      "outputs": [
        {
          "output_type": "execute_result",
          "data": {
            "text/plain": [
              "dict_keys(['data', 'target', 'feature_names', 'DESCR', 'filename', 'data_module'])"
            ]
          },
          "metadata": {},
          "execution_count": 136
        }
      ],
      "source": [
        "# 觀察資料的 key 值有哪些\n",
        "\n",
        "dataset.keys()"
      ]
    },
    {
      "cell_type": "code",
      "source": [
        "print(dataset['data'].size)\n",
        "dataset['data']"
      ],
      "metadata": {
        "colab": {
          "base_uri": "https://localhost:8080/"
        },
        "id": "gV6hOkwytc5L",
        "outputId": "328ebe55-f3a7-4798-d9dd-7c5728bff684"
      },
      "id": "gV6hOkwytc5L",
      "execution_count": 137,
      "outputs": [
        {
          "output_type": "stream",
          "name": "stdout",
          "text": [
            "6578\n"
          ]
        },
        {
          "output_type": "execute_result",
          "data": {
            "text/plain": [
              "array([[6.3200e-03, 1.8000e+01, 2.3100e+00, ..., 1.5300e+01, 3.9690e+02,\n",
              "        4.9800e+00],\n",
              "       [2.7310e-02, 0.0000e+00, 7.0700e+00, ..., 1.7800e+01, 3.9690e+02,\n",
              "        9.1400e+00],\n",
              "       [2.7290e-02, 0.0000e+00, 7.0700e+00, ..., 1.7800e+01, 3.9283e+02,\n",
              "        4.0300e+00],\n",
              "       ...,\n",
              "       [6.0760e-02, 0.0000e+00, 1.1930e+01, ..., 2.1000e+01, 3.9690e+02,\n",
              "        5.6400e+00],\n",
              "       [1.0959e-01, 0.0000e+00, 1.1930e+01, ..., 2.1000e+01, 3.9345e+02,\n",
              "        6.4800e+00],\n",
              "       [4.7410e-02, 0.0000e+00, 1.1930e+01, ..., 2.1000e+01, 3.9690e+02,\n",
              "        7.8800e+00]])"
            ]
          },
          "metadata": {},
          "execution_count": 137
        }
      ]
    },
    {
      "cell_type": "code",
      "source": [
        "print(dataset['target'].size)\n",
        "dataset['target']"
      ],
      "metadata": {
        "colab": {
          "base_uri": "https://localhost:8080/"
        },
        "id": "mNAXNoL0uq3J",
        "outputId": "aea9598a-1790-4cb0-b1ef-34aa3865f1b2"
      },
      "id": "mNAXNoL0uq3J",
      "execution_count": 138,
      "outputs": [
        {
          "output_type": "stream",
          "name": "stdout",
          "text": [
            "506\n"
          ]
        },
        {
          "output_type": "execute_result",
          "data": {
            "text/plain": [
              "array([24. , 21.6, 34.7, 33.4, 36.2, 28.7, 22.9, 27.1, 16.5, 18.9, 15. ,\n",
              "       18.9, 21.7, 20.4, 18.2, 19.9, 23.1, 17.5, 20.2, 18.2, 13.6, 19.6,\n",
              "       15.2, 14.5, 15.6, 13.9, 16.6, 14.8, 18.4, 21. , 12.7, 14.5, 13.2,\n",
              "       13.1, 13.5, 18.9, 20. , 21. , 24.7, 30.8, 34.9, 26.6, 25.3, 24.7,\n",
              "       21.2, 19.3, 20. , 16.6, 14.4, 19.4, 19.7, 20.5, 25. , 23.4, 18.9,\n",
              "       35.4, 24.7, 31.6, 23.3, 19.6, 18.7, 16. , 22.2, 25. , 33. , 23.5,\n",
              "       19.4, 22. , 17.4, 20.9, 24.2, 21.7, 22.8, 23.4, 24.1, 21.4, 20. ,\n",
              "       20.8, 21.2, 20.3, 28. , 23.9, 24.8, 22.9, 23.9, 26.6, 22.5, 22.2,\n",
              "       23.6, 28.7, 22.6, 22. , 22.9, 25. , 20.6, 28.4, 21.4, 38.7, 43.8,\n",
              "       33.2, 27.5, 26.5, 18.6, 19.3, 20.1, 19.5, 19.5, 20.4, 19.8, 19.4,\n",
              "       21.7, 22.8, 18.8, 18.7, 18.5, 18.3, 21.2, 19.2, 20.4, 19.3, 22. ,\n",
              "       20.3, 20.5, 17.3, 18.8, 21.4, 15.7, 16.2, 18. , 14.3, 19.2, 19.6,\n",
              "       23. , 18.4, 15.6, 18.1, 17.4, 17.1, 13.3, 17.8, 14. , 14.4, 13.4,\n",
              "       15.6, 11.8, 13.8, 15.6, 14.6, 17.8, 15.4, 21.5, 19.6, 15.3, 19.4,\n",
              "       17. , 15.6, 13.1, 41.3, 24.3, 23.3, 27. , 50. , 50. , 50. , 22.7,\n",
              "       25. , 50. , 23.8, 23.8, 22.3, 17.4, 19.1, 23.1, 23.6, 22.6, 29.4,\n",
              "       23.2, 24.6, 29.9, 37.2, 39.8, 36.2, 37.9, 32.5, 26.4, 29.6, 50. ,\n",
              "       32. , 29.8, 34.9, 37. , 30.5, 36.4, 31.1, 29.1, 50. , 33.3, 30.3,\n",
              "       34.6, 34.9, 32.9, 24.1, 42.3, 48.5, 50. , 22.6, 24.4, 22.5, 24.4,\n",
              "       20. , 21.7, 19.3, 22.4, 28.1, 23.7, 25. , 23.3, 28.7, 21.5, 23. ,\n",
              "       26.7, 21.7, 27.5, 30.1, 44.8, 50. , 37.6, 31.6, 46.7, 31.5, 24.3,\n",
              "       31.7, 41.7, 48.3, 29. , 24. , 25.1, 31.5, 23.7, 23.3, 22. , 20.1,\n",
              "       22.2, 23.7, 17.6, 18.5, 24.3, 20.5, 24.5, 26.2, 24.4, 24.8, 29.6,\n",
              "       42.8, 21.9, 20.9, 44. , 50. , 36. , 30.1, 33.8, 43.1, 48.8, 31. ,\n",
              "       36.5, 22.8, 30.7, 50. , 43.5, 20.7, 21.1, 25.2, 24.4, 35.2, 32.4,\n",
              "       32. , 33.2, 33.1, 29.1, 35.1, 45.4, 35.4, 46. , 50. , 32.2, 22. ,\n",
              "       20.1, 23.2, 22.3, 24.8, 28.5, 37.3, 27.9, 23.9, 21.7, 28.6, 27.1,\n",
              "       20.3, 22.5, 29. , 24.8, 22. , 26.4, 33.1, 36.1, 28.4, 33.4, 28.2,\n",
              "       22.8, 20.3, 16.1, 22.1, 19.4, 21.6, 23.8, 16.2, 17.8, 19.8, 23.1,\n",
              "       21. , 23.8, 23.1, 20.4, 18.5, 25. , 24.6, 23. , 22.2, 19.3, 22.6,\n",
              "       19.8, 17.1, 19.4, 22.2, 20.7, 21.1, 19.5, 18.5, 20.6, 19. , 18.7,\n",
              "       32.7, 16.5, 23.9, 31.2, 17.5, 17.2, 23.1, 24.5, 26.6, 22.9, 24.1,\n",
              "       18.6, 30.1, 18.2, 20.6, 17.8, 21.7, 22.7, 22.6, 25. , 19.9, 20.8,\n",
              "       16.8, 21.9, 27.5, 21.9, 23.1, 50. , 50. , 50. , 50. , 50. , 13.8,\n",
              "       13.8, 15. , 13.9, 13.3, 13.1, 10.2, 10.4, 10.9, 11.3, 12.3,  8.8,\n",
              "        7.2, 10.5,  7.4, 10.2, 11.5, 15.1, 23.2,  9.7, 13.8, 12.7, 13.1,\n",
              "       12.5,  8.5,  5. ,  6.3,  5.6,  7.2, 12.1,  8.3,  8.5,  5. , 11.9,\n",
              "       27.9, 17.2, 27.5, 15. , 17.2, 17.9, 16.3,  7. ,  7.2,  7.5, 10.4,\n",
              "        8.8,  8.4, 16.7, 14.2, 20.8, 13.4, 11.7,  8.3, 10.2, 10.9, 11. ,\n",
              "        9.5, 14.5, 14.1, 16.1, 14.3, 11.7, 13.4,  9.6,  8.7,  8.4, 12.8,\n",
              "       10.5, 17.1, 18.4, 15.4, 10.8, 11.8, 14.9, 12.6, 14.1, 13. , 13.4,\n",
              "       15.2, 16.1, 17.8, 14.9, 14.1, 12.7, 13.5, 14.9, 20. , 16.4, 17.7,\n",
              "       19.5, 20.2, 21.4, 19.9, 19. , 19.1, 19.1, 20.1, 19.9, 19.6, 23.2,\n",
              "       29.8, 13.8, 13.3, 16.7, 12. , 14.6, 21.4, 23. , 23.7, 25. , 21.8,\n",
              "       20.6, 21.2, 19.1, 20.6, 15.2,  7. ,  8.1, 13.6, 20.1, 21.8, 24.5,\n",
              "       23.1, 19.7, 18.3, 21.2, 17.5, 16.8, 22.4, 20.6, 23.9, 22. , 11.9])"
            ]
          },
          "metadata": {},
          "execution_count": 138
        }
      ]
    },
    {
      "cell_type": "code",
      "source": [
        "dataset['feature_names']"
      ],
      "metadata": {
        "colab": {
          "base_uri": "https://localhost:8080/"
        },
        "id": "-4dzlaq9utpC",
        "outputId": "e71e6e0f-d791-454a-b753-27546242a55e"
      },
      "id": "-4dzlaq9utpC",
      "execution_count": 139,
      "outputs": [
        {
          "output_type": "execute_result",
          "data": {
            "text/plain": [
              "array(['CRIM', 'ZN', 'INDUS', 'CHAS', 'NOX', 'RM', 'AGE', 'DIS', 'RAD',\n",
              "       'TAX', 'PTRATIO', 'B', 'LSTAT'], dtype='<U7')"
            ]
          },
          "metadata": {},
          "execution_count": 139
        }
      ]
    },
    {
      "cell_type": "code",
      "source": [
        "dataset['DESCR']"
      ],
      "metadata": {
        "colab": {
          "base_uri": "https://localhost:8080/",
          "height": 140
        },
        "id": "c6_g7RSwuvu_",
        "outputId": "72c36d27-c8ed-43c1-94ce-88bc90f9c950"
      },
      "id": "c6_g7RSwuvu_",
      "execution_count": 140,
      "outputs": [
        {
          "output_type": "execute_result",
          "data": {
            "text/plain": [
              "\".. _boston_dataset:\\n\\nBoston house prices dataset\\n---------------------------\\n\\n**Data Set Characteristics:**  \\n\\n    :Number of Instances: 506 \\n\\n    :Number of Attributes: 13 numeric/categorical predictive. Median Value (attribute 14) is usually the target.\\n\\n    :Attribute Information (in order):\\n        - CRIM     per capita crime rate by town\\n        - ZN       proportion of residential land zoned for lots over 25,000 sq.ft.\\n        - INDUS    proportion of non-retail business acres per town\\n        - CHAS     Charles River dummy variable (= 1 if tract bounds river; 0 otherwise)\\n        - NOX      nitric oxides concentration (parts per 10 million)\\n        - RM       average number of rooms per dwelling\\n        - AGE      proportion of owner-occupied units built prior to 1940\\n        - DIS      weighted distances to five Boston employment centres\\n        - RAD      index of accessibility to radial highways\\n        - TAX      full-value property-tax rate per $10,000\\n        - PTRATIO  pupil-teacher ratio by town\\n        - B        1000(Bk - 0.63)^2 where Bk is the proportion of black people by town\\n        - LSTAT    % lower status of the population\\n        - MEDV     Median value of owner-occupied homes in $1000's\\n\\n    :Missing Attribute Values: None\\n\\n    :Creator: Harrison, D. and Rubinfeld, D.L.\\n\\nThis is a copy of UCI ML housing dataset.\\nhttps://archive.ics.uci.edu/ml/machine-learning-databases/housing/\\n\\n\\nThis dataset was taken from the StatLib library which is maintained at Carnegie Mellon University.\\n\\nThe Boston house-price data of Harrison, D. and Rubinfeld, D.L. 'Hedonic\\nprices and the demand for clean air', J. Environ. Economics & Management,\\nvol.5, 81-102, 1978.   Used in Belsley, Kuh & Welsch, 'Regression diagnostics\\n...', Wiley, 1980.   N.B. Various transformations are used in the table on\\npages 244-261 of the latter.\\n\\nThe Boston house-price data has been used in many machine learning papers that address regression\\nproblems.   \\n     \\n.. topic:: References\\n\\n   - Belsley, Kuh & Welsch, 'Regression diagnostics: Identifying Influential Data and Sources of Collinearity', Wiley, 1980. 244-261.\\n   - Quinlan,R. (1993). Combining Instance-Based and Model-Based Learning. In Proceedings on the Tenth International Conference of Machine Learning, 236-243, University of Massachusetts, Amherst. Morgan Kaufmann.\\n\""
            ],
            "application/vnd.google.colaboratory.intrinsic+json": {
              "type": "string"
            }
          },
          "metadata": {},
          "execution_count": 140
        }
      ]
    },
    {
      "cell_type": "code",
      "source": [
        "dataset['filename']"
      ],
      "metadata": {
        "colab": {
          "base_uri": "https://localhost:8080/",
          "height": 35
        },
        "id": "GhtpCgIDuw4O",
        "outputId": "5bdc2bd9-3553-4885-fb3e-c1528190f687"
      },
      "id": "GhtpCgIDuw4O",
      "execution_count": 141,
      "outputs": [
        {
          "output_type": "execute_result",
          "data": {
            "text/plain": [
              "'boston_house_prices.csv'"
            ],
            "application/vnd.google.colaboratory.intrinsic+json": {
              "type": "string"
            }
          },
          "metadata": {},
          "execution_count": 141
        }
      ]
    },
    {
      "cell_type": "code",
      "source": [
        "dataset['data_module']"
      ],
      "metadata": {
        "colab": {
          "base_uri": "https://localhost:8080/",
          "height": 35
        },
        "id": "TJBIU_X8ux_3",
        "outputId": "1cd149dd-44a9-4b2e-de7a-464fbf4a35b3"
      },
      "id": "TJBIU_X8ux_3",
      "execution_count": 142,
      "outputs": [
        {
          "output_type": "execute_result",
          "data": {
            "text/plain": [
              "'sklearn.datasets.data'"
            ],
            "application/vnd.google.colaboratory.intrinsic+json": {
              "type": "string"
            }
          },
          "metadata": {},
          "execution_count": 142
        }
      ]
    },
    {
      "cell_type": "markdown",
      "id": "floating-preliminary",
      "metadata": {
        "id": "floating-preliminary"
      },
      "source": [
        "## 資料前處理\n",
        "### TODO #1: \n",
        "- 請將資料以 Pandas 整理成 DataFrame 的型式\n",
        "- 欄位名稱為 feature_names"
      ]
    },
    {
      "cell_type": "code",
      "source": [
        "a = dataset['data'][:,1]\n",
        "print(a)\n",
        "'''for i in range(len(dataset['data'])):\n",
        "  print(dataset['data'][i][1])'''"
      ],
      "metadata": {
        "colab": {
          "base_uri": "https://localhost:8080/",
          "height": 782
        },
        "id": "OWJoOOAe2XTu",
        "outputId": "85be1a26-d34b-407a-fed5-42cdadd0c6c0"
      },
      "id": "OWJoOOAe2XTu",
      "execution_count": 143,
      "outputs": [
        {
          "output_type": "stream",
          "name": "stdout",
          "text": [
            "[ 18.    0.    0.    0.    0.    0.   12.5  12.5  12.5  12.5  12.5  12.5\n",
            "  12.5   0.    0.    0.    0.    0.    0.    0.    0.    0.    0.    0.\n",
            "   0.    0.    0.    0.    0.    0.    0.    0.    0.    0.    0.    0.\n",
            "   0.    0.    0.   75.   75.    0.    0.    0.    0.    0.    0.    0.\n",
            "   0.    0.   21.   21.   21.   21.   75.   90.   85.  100.   25.   25.\n",
            "  25.   25.   25.   25.   17.5  80.   80.   12.5  12.5  12.5   0.    0.\n",
            "   0.    0.    0.    0.    0.    0.    0.    0.   25.   25.   25.   25.\n",
            "   0.    0.    0.    0.    0.    0.    0.    0.   28.   28.   28.    0.\n",
            "   0.    0.    0.    0.    0.    0.    0.    0.    0.    0.    0.    0.\n",
            "   0.    0.    0.    0.    0.    0.    0.    0.    0.    0.    0.    0.\n",
            "   0.    0.    0.    0.    0.    0.    0.    0.    0.    0.    0.    0.\n",
            "   0.    0.    0.    0.    0.    0.    0.    0.    0.    0.    0.    0.\n",
            "   0.    0.    0.    0.    0.    0.    0.    0.    0.    0.    0.    0.\n",
            "   0.    0.    0.    0.    0.    0.    0.    0.    0.    0.    0.    0.\n",
            "   0.    0.    0.    0.    0.    0.    0.    0.    0.    0.    0.    0.\n",
            "   0.    0.    0.    0.    0.    0.    0.   45.   45.   45.   45.   45.\n",
            "  45.   60.   60.   80.   80.   80.   80.   95.   95.   82.5  82.5  95.\n",
            "  95.    0.    0.    0.    0.    0.    0.    0.    0.    0.    0.    0.\n",
            "   0.    0.    0.    0.    0.    0.    0.    0.    0.    0.    0.    0.\n",
            "   0.    0.    0.    0.    0.    0.    0.    0.    0.    0.   30.   30.\n",
            "  30.   30.   30.   30.   22.   22.   22.   22.   22.   22.   22.   22.\n",
            "  22.   22.   80.   80.   90.   20.   20.   20.   20.   20.   20.   20.\n",
            "  20.   20.   20.   20.   20.   20.   20.   20.   20.   20.   40.   40.\n",
            "  40.   40.   40.   20.   20.   20.   20.   90.   90.   55.   80.   52.5\n",
            "  52.5  52.5  80.   80.   80.    0.    0.    0.    0.    0.   70.   70.\n",
            "  70.   34.   34.   34.   33.   33.   33.   33.    0.    0.    0.    0.\n",
            "   0.    0.    0.    0.    0.    0.    0.    0.    0.    0.    0.    0.\n",
            "   0.    0.    0.    0.    0.    0.    0.   35.   35.    0.    0.    0.\n",
            "   0.    0.    0.    0.    0.   35.    0.   55.   55.    0.    0.   85.\n",
            "  80.   40.   40.   60.   60.   90.   80.   80.    0.    0.    0.    0.\n",
            "   0.    0.    0.    0.    0.    0.    0.    0.    0.    0.    0.    0.\n",
            "   0.    0.    0.    0.    0.    0.    0.    0.    0.    0.    0.    0.\n",
            "   0.    0.    0.    0.    0.    0.    0.    0.    0.    0.    0.    0.\n",
            "   0.    0.    0.    0.    0.    0.    0.    0.    0.    0.    0.    0.\n",
            "   0.    0.    0.    0.    0.    0.    0.    0.    0.    0.    0.    0.\n",
            "   0.    0.    0.    0.    0.    0.    0.    0.    0.    0.    0.    0.\n",
            "   0.    0.    0.    0.    0.    0.    0.    0.    0.    0.    0.    0.\n",
            "   0.    0.    0.    0.    0.    0.    0.    0.    0.    0.    0.    0.\n",
            "   0.    0.    0.    0.    0.    0.    0.    0.    0.    0.    0.    0.\n",
            "   0.    0.    0.    0.    0.    0.    0.    0.    0.    0.    0.    0.\n",
            "   0.    0.    0.    0.    0.    0.    0.    0.    0.    0.    0.    0.\n",
            "   0.    0.    0.    0.    0.    0.    0.    0.    0.    0.    0.    0.\n",
            "   0.    0. ]\n"
          ]
        },
        {
          "output_type": "execute_result",
          "data": {
            "text/plain": [
              "\"for i in range(len(dataset['data'])):\\n  print(dataset['data'][i][1])\""
            ],
            "application/vnd.google.colaboratory.intrinsic+json": {
              "type": "string"
            }
          },
          "metadata": {},
          "execution_count": 143
        }
      ]
    },
    {
      "cell_type": "code",
      "execution_count": 144,
      "id": "constitutional-accommodation",
      "metadata": {
        "colab": {
          "base_uri": "https://localhost:8080/",
          "height": 105
        },
        "id": "constitutional-accommodation",
        "outputId": "17691c12-7c7e-4497-fad9-8b9cc9bec708"
      },
      "outputs": [
        {
          "output_type": "execute_result",
          "data": {
            "text/plain": [
              "\"dataset['feature_names'][0] : dataset['data'][:,0],\\ndataset['feature_names'][1] : dataset['data'][:,1],\\ndataset['feature_names'][2] : dataset['data'][:,2],\\ndataset['feature_names'][3] : dataset['data'][:,3],\\ndataset['feature_names'][4] : dataset['data'][:,4],\\ndataset['feature_names'][5] : dataset['data'][:,5],\\ndataset['feature_names'][6] : dataset['data'][:,6],\\ndataset['feature_names'][7] : dataset['data'][:,7],\\ndataset['feature_names'][8] : dataset['data'][:,8],\\ndataset['feature_names'][9] : dataset['data'][:,9],\\ndataset['feature_names'][10] : dataset['data'][:,10],\\ndataset['feature_names'][11] : dataset['data'][:,11],\\ndataset['feature_names'][12] : dataset['data'][:,12],\\n'target' : dataset['target']\""
            ],
            "application/vnd.google.colaboratory.intrinsic+json": {
              "type": "string"
            }
          },
          "metadata": {},
          "execution_count": 144
        }
      ],
      "source": [
        "df = pd.DataFrame(\n",
        "    # Please put something here. \n",
        "  dataset.data, columns = dataset.feature_names\n",
        "\n",
        ")\n",
        "'''dataset['feature_names'][0] : dataset['data'][:,0],\n",
        "dataset['feature_names'][1] : dataset['data'][:,1],\n",
        "dataset['feature_names'][2] : dataset['data'][:,2],\n",
        "dataset['feature_names'][3] : dataset['data'][:,3],\n",
        "dataset['feature_names'][4] : dataset['data'][:,4],\n",
        "dataset['feature_names'][5] : dataset['data'][:,5],\n",
        "dataset['feature_names'][6] : dataset['data'][:,6],\n",
        "dataset['feature_names'][7] : dataset['data'][:,7],\n",
        "dataset['feature_names'][8] : dataset['data'][:,8],\n",
        "dataset['feature_names'][9] : dataset['data'][:,9],\n",
        "dataset['feature_names'][10] : dataset['data'][:,10],\n",
        "dataset['feature_names'][11] : dataset['data'][:,11],\n",
        "dataset['feature_names'][12] : dataset['data'][:,12],\n",
        "'target' : dataset['target']'''"
      ]
    },
    {
      "cell_type": "code",
      "execution_count": 145,
      "id": "stuck-thinking",
      "metadata": {
        "colab": {
          "base_uri": "https://localhost:8080/"
        },
        "id": "stuck-thinking",
        "outputId": "73038bdf-a192-4be5-f9b8-1e0aa24d5b10"
      },
      "outputs": [
        {
          "output_type": "stream",
          "name": "stdout",
          "text": [
            "Number of features:  13\n"
          ]
        }
      ],
      "source": [
        "print(\"Number of features: \", len(dataset.feature_names))"
      ]
    },
    {
      "cell_type": "code",
      "execution_count": 146,
      "id": "satisfactory-disease",
      "metadata": {
        "id": "satisfactory-disease"
      },
      "outputs": [],
      "source": [
        "df['MEDV'] = dataset.target"
      ]
    },
    {
      "cell_type": "code",
      "execution_count": 147,
      "id": "irish-terrorism",
      "metadata": {
        "colab": {
          "base_uri": "https://localhost:8080/",
          "height": 206
        },
        "id": "irish-terrorism",
        "outputId": "d1b4a36f-2039-4294-e32a-deea8e372d67"
      },
      "outputs": [
        {
          "output_type": "execute_result",
          "data": {
            "text/plain": [
              "      CRIM    ZN  INDUS  CHAS    NOX     RM   AGE     DIS  RAD    TAX  \\\n",
              "0  0.00632  18.0   2.31   0.0  0.538  6.575  65.2  4.0900  1.0  296.0   \n",
              "1  0.02731   0.0   7.07   0.0  0.469  6.421  78.9  4.9671  2.0  242.0   \n",
              "2  0.02729   0.0   7.07   0.0  0.469  7.185  61.1  4.9671  2.0  242.0   \n",
              "3  0.03237   0.0   2.18   0.0  0.458  6.998  45.8  6.0622  3.0  222.0   \n",
              "4  0.06905   0.0   2.18   0.0  0.458  7.147  54.2  6.0622  3.0  222.0   \n",
              "\n",
              "   PTRATIO       B  LSTAT  MEDV  \n",
              "0     15.3  396.90   4.98  24.0  \n",
              "1     17.8  396.90   9.14  21.6  \n",
              "2     17.8  392.83   4.03  34.7  \n",
              "3     18.7  394.63   2.94  33.4  \n",
              "4     18.7  396.90   5.33  36.2  "
            ],
            "text/html": [
              "\n",
              "  <div id=\"df-6e23a50c-fa2f-48d3-b28d-e1b389f26a8b\">\n",
              "    <div class=\"colab-df-container\">\n",
              "      <div>\n",
              "<style scoped>\n",
              "    .dataframe tbody tr th:only-of-type {\n",
              "        vertical-align: middle;\n",
              "    }\n",
              "\n",
              "    .dataframe tbody tr th {\n",
              "        vertical-align: top;\n",
              "    }\n",
              "\n",
              "    .dataframe thead th {\n",
              "        text-align: right;\n",
              "    }\n",
              "</style>\n",
              "<table border=\"1\" class=\"dataframe\">\n",
              "  <thead>\n",
              "    <tr style=\"text-align: right;\">\n",
              "      <th></th>\n",
              "      <th>CRIM</th>\n",
              "      <th>ZN</th>\n",
              "      <th>INDUS</th>\n",
              "      <th>CHAS</th>\n",
              "      <th>NOX</th>\n",
              "      <th>RM</th>\n",
              "      <th>AGE</th>\n",
              "      <th>DIS</th>\n",
              "      <th>RAD</th>\n",
              "      <th>TAX</th>\n",
              "      <th>PTRATIO</th>\n",
              "      <th>B</th>\n",
              "      <th>LSTAT</th>\n",
              "      <th>MEDV</th>\n",
              "    </tr>\n",
              "  </thead>\n",
              "  <tbody>\n",
              "    <tr>\n",
              "      <th>0</th>\n",
              "      <td>0.00632</td>\n",
              "      <td>18.0</td>\n",
              "      <td>2.31</td>\n",
              "      <td>0.0</td>\n",
              "      <td>0.538</td>\n",
              "      <td>6.575</td>\n",
              "      <td>65.2</td>\n",
              "      <td>4.0900</td>\n",
              "      <td>1.0</td>\n",
              "      <td>296.0</td>\n",
              "      <td>15.3</td>\n",
              "      <td>396.90</td>\n",
              "      <td>4.98</td>\n",
              "      <td>24.0</td>\n",
              "    </tr>\n",
              "    <tr>\n",
              "      <th>1</th>\n",
              "      <td>0.02731</td>\n",
              "      <td>0.0</td>\n",
              "      <td>7.07</td>\n",
              "      <td>0.0</td>\n",
              "      <td>0.469</td>\n",
              "      <td>6.421</td>\n",
              "      <td>78.9</td>\n",
              "      <td>4.9671</td>\n",
              "      <td>2.0</td>\n",
              "      <td>242.0</td>\n",
              "      <td>17.8</td>\n",
              "      <td>396.90</td>\n",
              "      <td>9.14</td>\n",
              "      <td>21.6</td>\n",
              "    </tr>\n",
              "    <tr>\n",
              "      <th>2</th>\n",
              "      <td>0.02729</td>\n",
              "      <td>0.0</td>\n",
              "      <td>7.07</td>\n",
              "      <td>0.0</td>\n",
              "      <td>0.469</td>\n",
              "      <td>7.185</td>\n",
              "      <td>61.1</td>\n",
              "      <td>4.9671</td>\n",
              "      <td>2.0</td>\n",
              "      <td>242.0</td>\n",
              "      <td>17.8</td>\n",
              "      <td>392.83</td>\n",
              "      <td>4.03</td>\n",
              "      <td>34.7</td>\n",
              "    </tr>\n",
              "    <tr>\n",
              "      <th>3</th>\n",
              "      <td>0.03237</td>\n",
              "      <td>0.0</td>\n",
              "      <td>2.18</td>\n",
              "      <td>0.0</td>\n",
              "      <td>0.458</td>\n",
              "      <td>6.998</td>\n",
              "      <td>45.8</td>\n",
              "      <td>6.0622</td>\n",
              "      <td>3.0</td>\n",
              "      <td>222.0</td>\n",
              "      <td>18.7</td>\n",
              "      <td>394.63</td>\n",
              "      <td>2.94</td>\n",
              "      <td>33.4</td>\n",
              "    </tr>\n",
              "    <tr>\n",
              "      <th>4</th>\n",
              "      <td>0.06905</td>\n",
              "      <td>0.0</td>\n",
              "      <td>2.18</td>\n",
              "      <td>0.0</td>\n",
              "      <td>0.458</td>\n",
              "      <td>7.147</td>\n",
              "      <td>54.2</td>\n",
              "      <td>6.0622</td>\n",
              "      <td>3.0</td>\n",
              "      <td>222.0</td>\n",
              "      <td>18.7</td>\n",
              "      <td>396.90</td>\n",
              "      <td>5.33</td>\n",
              "      <td>36.2</td>\n",
              "    </tr>\n",
              "  </tbody>\n",
              "</table>\n",
              "</div>\n",
              "      <button class=\"colab-df-convert\" onclick=\"convertToInteractive('df-6e23a50c-fa2f-48d3-b28d-e1b389f26a8b')\"\n",
              "              title=\"Convert this dataframe to an interactive table.\"\n",
              "              style=\"display:none;\">\n",
              "        \n",
              "  <svg xmlns=\"http://www.w3.org/2000/svg\" height=\"24px\"viewBox=\"0 0 24 24\"\n",
              "       width=\"24px\">\n",
              "    <path d=\"M0 0h24v24H0V0z\" fill=\"none\"/>\n",
              "    <path d=\"M18.56 5.44l.94 2.06.94-2.06 2.06-.94-2.06-.94-.94-2.06-.94 2.06-2.06.94zm-11 1L8.5 8.5l.94-2.06 2.06-.94-2.06-.94L8.5 2.5l-.94 2.06-2.06.94zm10 10l.94 2.06.94-2.06 2.06-.94-2.06-.94-.94-2.06-.94 2.06-2.06.94z\"/><path d=\"M17.41 7.96l-1.37-1.37c-.4-.4-.92-.59-1.43-.59-.52 0-1.04.2-1.43.59L10.3 9.45l-7.72 7.72c-.78.78-.78 2.05 0 2.83L4 21.41c.39.39.9.59 1.41.59.51 0 1.02-.2 1.41-.59l7.78-7.78 2.81-2.81c.8-.78.8-2.07 0-2.86zM5.41 20L4 18.59l7.72-7.72 1.47 1.35L5.41 20z\"/>\n",
              "  </svg>\n",
              "      </button>\n",
              "      \n",
              "  <style>\n",
              "    .colab-df-container {\n",
              "      display:flex;\n",
              "      flex-wrap:wrap;\n",
              "      gap: 12px;\n",
              "    }\n",
              "\n",
              "    .colab-df-convert {\n",
              "      background-color: #E8F0FE;\n",
              "      border: none;\n",
              "      border-radius: 50%;\n",
              "      cursor: pointer;\n",
              "      display: none;\n",
              "      fill: #1967D2;\n",
              "      height: 32px;\n",
              "      padding: 0 0 0 0;\n",
              "      width: 32px;\n",
              "    }\n",
              "\n",
              "    .colab-df-convert:hover {\n",
              "      background-color: #E2EBFA;\n",
              "      box-shadow: 0px 1px 2px rgba(60, 64, 67, 0.3), 0px 1px 3px 1px rgba(60, 64, 67, 0.15);\n",
              "      fill: #174EA6;\n",
              "    }\n",
              "\n",
              "    [theme=dark] .colab-df-convert {\n",
              "      background-color: #3B4455;\n",
              "      fill: #D2E3FC;\n",
              "    }\n",
              "\n",
              "    [theme=dark] .colab-df-convert:hover {\n",
              "      background-color: #434B5C;\n",
              "      box-shadow: 0px 1px 3px 1px rgba(0, 0, 0, 0.15);\n",
              "      filter: drop-shadow(0px 1px 2px rgba(0, 0, 0, 0.3));\n",
              "      fill: #FFFFFF;\n",
              "    }\n",
              "  </style>\n",
              "\n",
              "      <script>\n",
              "        const buttonEl =\n",
              "          document.querySelector('#df-6e23a50c-fa2f-48d3-b28d-e1b389f26a8b button.colab-df-convert');\n",
              "        buttonEl.style.display =\n",
              "          google.colab.kernel.accessAllowed ? 'block' : 'none';\n",
              "\n",
              "        async function convertToInteractive(key) {\n",
              "          const element = document.querySelector('#df-6e23a50c-fa2f-48d3-b28d-e1b389f26a8b');\n",
              "          const dataTable =\n",
              "            await google.colab.kernel.invokeFunction('convertToInteractive',\n",
              "                                                     [key], {});\n",
              "          if (!dataTable) return;\n",
              "\n",
              "          const docLinkHtml = 'Like what you see? Visit the ' +\n",
              "            '<a target=\"_blank\" href=https://colab.research.google.com/notebooks/data_table.ipynb>data table notebook</a>'\n",
              "            + ' to learn more about interactive tables.';\n",
              "          element.innerHTML = '';\n",
              "          dataTable['output_type'] = 'display_data';\n",
              "          await google.colab.output.renderOutput(dataTable, element);\n",
              "          const docLink = document.createElement('div');\n",
              "          docLink.innerHTML = docLinkHtml;\n",
              "          element.appendChild(docLink);\n",
              "        }\n",
              "      </script>\n",
              "    </div>\n",
              "  </div>\n",
              "  "
            ]
          },
          "metadata": {},
          "execution_count": 147
        }
      ],
      "source": [
        "df.head()"
      ]
    },
    {
      "cell_type": "markdown",
      "id": "limited-arctic",
      "metadata": {
        "id": "limited-arctic"
      },
      "source": [
        "### TODO #2: 請進行統計各個 feature 的缺失值數目"
      ]
    },
    {
      "cell_type": "code",
      "execution_count": 148,
      "id": "bigger-alfred",
      "metadata": {
        "colab": {
          "base_uri": "https://localhost:8080/"
        },
        "id": "bigger-alfred",
        "outputId": "187ff90c-3741-4a57-8756-1a9b0674ce96"
      },
      "outputs": [
        {
          "output_type": "stream",
          "name": "stdout",
          "text": [
            "CRIM       0\n",
            "ZN         0\n",
            "INDUS      0\n",
            "CHAS       0\n",
            "NOX        0\n",
            "RM         0\n",
            "AGE        0\n",
            "DIS        0\n",
            "RAD        0\n",
            "TAX        0\n",
            "PTRATIO    0\n",
            "B          0\n",
            "LSTAT      0\n",
            "MEDV       0\n",
            "dtype: int64\n"
          ]
        }
      ],
      "source": [
        "# Please use some functions of Pandas here.\n",
        "print(df.isnull().sum())"
      ]
    },
    {
      "cell_type": "code",
      "execution_count": 149,
      "id": "representative-trade",
      "metadata": {
        "id": "representative-trade"
      },
      "outputs": [],
      "source": [
        "import seaborn as sns\n",
        "import matplotlib.pyplot as plt"
      ]
    },
    {
      "cell_type": "markdown",
      "id": "devoted-professor",
      "metadata": {
        "id": "devoted-professor"
      },
      "source": [
        "## 觀察資料的特性"
      ]
    },
    {
      "cell_type": "markdown",
      "id": "promotional-banner",
      "metadata": {
        "id": "promotional-banner"
      },
      "source": [
        "### TODO #3: 利用 Seaborn 畫箱型圖，並進行說明\n",
        "- 觀察每一個 features 的數值分佈\n",
        "- 可以用來決定是否要對資料的數值進行標準化"
      ]
    },
    {
      "cell_type": "markdown",
      "source": [
        "有些數據有很多極端資料，所以我將數據標準化後又做了一張圖，\n",
        "對於模型訓練有些許幫助"
      ],
      "metadata": {
        "id": "5zmpS8jgEUTl"
      },
      "id": "5zmpS8jgEUTl"
    },
    {
      "cell_type": "code",
      "execution_count": 150,
      "id": "secret-oxford",
      "metadata": {
        "colab": {
          "base_uri": "https://localhost:8080/",
          "height": 554
        },
        "id": "secret-oxford",
        "outputId": "9e853250-9ec1-44d0-8dce-fb34778a706c"
      },
      "outputs": [
        {
          "output_type": "execute_result",
          "data": {
            "text/plain": [
              "<matplotlib.axes._subplots.AxesSubplot at 0x7f8e8ab9f250>"
            ]
          },
          "metadata": {},
          "execution_count": 150
        },
        {
          "output_type": "display_data",
          "data": {
            "text/plain": [
              "<Figure size 1152x648 with 1 Axes>"
            ],
            "image/png": "[encoded data removed]"
          },
          "metadata": {
            "needs_background": "light"
          }
        }
      ],
      "source": [
        "from locale import normalize\n",
        "plt.figure(figsize=(16, 9))\n",
        "# Plot a boxplot with Seaborn\n",
        "plt.title = \"Boston House Price\"\n",
        "sns.boxplot(data = df)"
      ]
    },
    {
      "cell_type": "code",
      "source": [
        "plt.figure(figsize=(16, 9))\n",
        "# Plot a boxplot with Seaborn\n",
        "plt.title = \"Boston House Price\"\n",
        "normalize_df = (df - df.mean()) / df.std()\n",
        "#sns.boxplot(data = df)\n",
        "sns.boxplot(data = normalize_df)"
      ],
      "metadata": {
        "colab": {
          "base_uri": "https://localhost:8080/",
          "height": 554
        },
        "id": "7NULBaXaEJpR",
        "outputId": "4d0fe48b-f934-4171-b7c5-96092c2a32f9"
      },
      "id": "7NULBaXaEJpR",
      "execution_count": 151,
      "outputs": [
        {
          "output_type": "execute_result",
          "data": {
            "text/plain": [
              "<matplotlib.axes._subplots.AxesSubplot at 0x7f8e8a96c350>"
            ]
          },
          "metadata": {},
          "execution_count": 151
        },
        {
          "output_type": "display_data",
          "data": {
            "text/plain": [
              "<Figure size 1152x648 with 1 Axes>"
            ],
            "image/png": "[encoded data removed]"
          },
          "metadata": {
            "needs_background": "light"
          }
        }
      ]
    },
    {
      "cell_type": "markdown",
      "id": "outdoor-symposium",
      "metadata": {
        "id": "outdoor-symposium"
      },
      "source": [
        "### TODO #4: 利用 Seaborn 進行 Heatmap 作圖，並進行說明\n",
        "- 觀察每一個特徵與房價 (MEDV) 的關聯程度\n",
        "- 使用 dr.corr() 來計算 feature 和 feature 之間的關係係數\n",
        "- 數值愈高表示愈正相關，數值愈低表示愈負相關"
      ]
    },
    {
      "cell_type": "markdown",
      "source": [
        "Heatmap有效的展示出相關性，以顏色深淺作為辨別。\n",
        "越接近1有越大的正相關，反之，越接近-1有越大的負相關"
      ],
      "metadata": {
        "id": "-oAql0iHw0Mk"
      },
      "id": "-oAql0iHw0Mk"
    },
    {
      "cell_type": "code",
      "execution_count": 152,
      "id": "honey-adobe",
      "metadata": {
        "colab": {
          "base_uri": "https://localhost:8080/",
          "height": 558
        },
        "id": "honey-adobe",
        "outputId": "4d98ebaf-cac6-439e-b06c-9d00f0b431d4"
      },
      "outputs": [
        {
          "output_type": "execute_result",
          "data": {
            "text/plain": [
              "<matplotlib.axes._subplots.AxesSubplot at 0x7f8e8a94ef10>"
            ]
          },
          "metadata": {},
          "execution_count": 152
        },
        {
          "output_type": "display_data",
          "data": {
            "text/plain": [
              "<Figure size 1152x648 with 2 Axes>"
            ],
            "image/png": "[encoded data removed]"
          },
          "metadata": {
            "needs_background": "light"
          }
        }
      ],
      "source": [
        "plt.figure(figsize=(16, 9))\n",
        "# Please use a function of Pandas here.\n",
        "\n",
        "# Plot a heatmap with Seaborn\n",
        "sns.heatmap(df.corr())"
      ]
    },
    {
      "cell_type": "code",
      "source": [
        "df.corr()"
      ],
      "metadata": {
        "colab": {
          "base_uri": "https://localhost:8080/",
          "height": 532
        },
        "id": "aBKQ9tj0YyuB",
        "outputId": "1c365c4f-7cda-4798-c27c-7a80d008f913"
      },
      "id": "aBKQ9tj0YyuB",
      "execution_count": 153,
      "outputs": [
        {
          "output_type": "execute_result",
          "data": {
            "text/plain": [
              "             CRIM        ZN     INDUS      CHAS       NOX        RM       AGE  \\\n",
              "CRIM     1.000000 -0.200469  0.406583 -0.055892  0.420972 -0.219247  0.352734   \n",
              "ZN      -0.200469  1.000000 -0.533828 -0.042697 -0.516604  0.311991 -0.569537   \n",
              "INDUS    0.406583 -0.533828  1.000000  0.062938  0.763651 -0.391676  0.644779   \n",
              "CHAS    -0.055892 -0.042697  0.062938  1.000000  0.091203  0.091251  0.086518   \n",
              "NOX      0.420972 -0.516604  0.763651  0.091203  1.000000 -0.302188  0.731470   \n",
              "RM      -0.219247  0.311991 -0.391676  0.091251 -0.302188  1.000000 -0.240265   \n",
              "AGE      0.352734 -0.569537  0.644779  0.086518  0.731470 -0.240265  1.000000   \n",
              "DIS     -0.379670  0.664408 -0.708027 -0.099176 -0.769230  0.205246 -0.747881   \n",
              "RAD      0.625505 -0.311948  0.595129 -0.007368  0.611441 -0.209847  0.456022   \n",
              "TAX      0.582764 -0.314563  0.720760 -0.035587  0.668023 -0.292048  0.506456   \n",
              "PTRATIO  0.289946 -0.391679  0.383248 -0.121515  0.188933 -0.355501  0.261515   \n",
              "B       -0.385064  0.175520 -0.356977  0.048788 -0.380051  0.128069 -0.273534   \n",
              "LSTAT    0.455621 -0.412995  0.603800 -0.053929  0.590879 -0.613808  0.602339   \n",
              "MEDV    -0.388305  0.360445 -0.483725  0.175260 -0.427321  0.695360 -0.376955   \n",
              "\n",
              "              DIS       RAD       TAX   PTRATIO         B     LSTAT      MEDV  \n",
              "CRIM    -0.379670  0.625505  0.582764  0.289946 -0.385064  0.455621 -0.388305  \n",
              "ZN       0.664408 -0.311948 -0.314563 -0.391679  0.175520 -0.412995  0.360445  \n",
              "INDUS   -0.708027  0.595129  0.720760  0.383248 -0.356977  0.603800 -0.483725  \n",
              "CHAS    -0.099176 -0.007368 -0.035587 -0.121515  0.048788 -0.053929  0.175260  \n",
              "NOX     -0.769230  0.611441  0.668023  0.188933 -0.380051  0.590879 -0.427321  \n",
              "RM       0.205246 -0.209847 -0.292048 -0.355501  0.128069 -0.613808  0.695360  \n",
              "AGE     -0.747881  0.456022  0.506456  0.261515 -0.273534  0.602339 -0.376955  \n",
              "DIS      1.000000 -0.494588 -0.534432 -0.232471  0.291512 -0.496996  0.249929  \n",
              "RAD     -0.494588  1.000000  0.910228  0.464741 -0.444413  0.488676 -0.381626  \n",
              "TAX     -0.534432  0.910228  1.000000  0.460853 -0.441808  0.543993 -0.468536  \n",
              "PTRATIO -0.232471  0.464741  0.460853  1.000000 -0.177383  0.374044 -0.507787  \n",
              "B        0.291512 -0.444413 -0.441808 -0.177383  1.000000 -0.366087  0.333461  \n",
              "LSTAT   -0.496996  0.488676  0.543993  0.374044 -0.366087  1.000000 -0.737663  \n",
              "MEDV     0.249929 -0.381626 -0.468536 -0.507787  0.333461 -0.737663  1.000000  "
            ],
            "text/html": [
              "\n",
              "  <div id=\"df-3c793c74-3db3-48ff-9953-c4922481fce4\">\n",
              "    <div class=\"colab-df-container\">\n",
              "      <div>\n",
              "<style scoped>\n",
              "    .dataframe tbody tr th:only-of-type {\n",
              "        vertical-align: middle;\n",
              "    }\n",
              "\n",
              "    .dataframe tbody tr th {\n",
              "        vertical-align: top;\n",
              "    }\n",
              "\n",
              "    .dataframe thead th {\n",
              "        text-align: right;\n",
              "    }\n",
              "</style>\n",
              "<table border=\"1\" class=\"dataframe\">\n",
              "  <thead>\n",
              "    <tr style=\"text-align: right;\">\n",
              "      <th></th>\n",
              "      <th>CRIM</th>\n",
              "      <th>ZN</th>\n",
              "      <th>INDUS</th>\n",
              "      <th>CHAS</th>\n",
              "      <th>NOX</th>\n",
              "      <th>RM</th>\n",
              "      <th>AGE</th>\n",
              "      <th>DIS</th>\n",
              "      <th>RAD</th>\n",
              "      <th>TAX</th>\n",
              "      <th>PTRATIO</th>\n",
              "      <th>B</th>\n",
              "      <th>LSTAT</th>\n",
              "      <th>MEDV</th>\n",
              "    </tr>\n",
              "  </thead>\n",
              "  <tbody>\n",
              "    <tr>\n",
              "      <th>CRIM</th>\n",
              "      <td>1.000000</td>\n",
              "      <td>-0.200469</td>\n",
              "      <td>0.406583</td>\n",
              "      <td>-0.055892</td>\n",
              "      <td>0.420972</td>\n",
              "      <td>-0.219247</td>\n",
              "      <td>0.352734</td>\n",
              "      <td>-0.379670</td>\n",
              "      <td>0.625505</td>\n",
              "      <td>0.582764</td>\n",
              "      <td>0.289946</td>\n",
              "      <td>-0.385064</td>\n",
              "      <td>0.455621</td>\n",
              "      <td>-0.388305</td>\n",
              "    </tr>\n",
              "    <tr>\n",
              "      <th>ZN</th>\n",
              "      <td>-0.200469</td>\n",
              "      <td>1.000000</td>\n",
              "      <td>-0.533828</td>\n",
              "      <td>-0.042697</td>\n",
              "      <td>-0.516604</td>\n",
              "      <td>0.311991</td>\n",
              "      <td>-0.569537</td>\n",
              "      <td>0.664408</td>\n",
              "      <td>-0.311948</td>\n",
              "      <td>-0.314563</td>\n",
              "      <td>-0.391679</td>\n",
              "      <td>0.175520</td>\n",
              "      <td>-0.412995</td>\n",
              "      <td>0.360445</td>\n",
              "    </tr>\n",
              "    <tr>\n",
              "      <th>INDUS</th>\n",
              "      <td>0.406583</td>\n",
              "      <td>-0.533828</td>\n",
              "      <td>1.000000</td>\n",
              "      <td>0.062938</td>\n",
              "      <td>0.763651</td>\n",
              "      <td>-0.391676</td>\n",
              "      <td>0.644779</td>\n",
              "      <td>-0.708027</td>\n",
              "      <td>0.595129</td>\n",
              "      <td>0.720760</td>\n",
              "      <td>0.383248</td>\n",
              "      <td>-0.356977</td>\n",
              "      <td>0.603800</td>\n",
              "      <td>-0.483725</td>\n",
              "    </tr>\n",
              "    <tr>\n",
              "      <th>CHAS</th>\n",
              "      <td>-0.055892</td>\n",
              "      <td>-0.042697</td>\n",
              "      <td>0.062938</td>\n",
              "      <td>1.000000</td>\n",
              "      <td>0.091203</td>\n",
              "      <td>0.091251</td>\n",
              "      <td>0.086518</td>\n",
              "      <td>-0.099176</td>\n",
              "      <td>-0.007368</td>\n",
              "      <td>-0.035587</td>\n",
              "      <td>-0.121515</td>\n",
              "      <td>0.048788</td>\n",
              "      <td>-0.053929</td>\n",
              "      <td>0.175260</td>\n",
              "    </tr>\n",
              "    <tr>\n",
              "      <th>NOX</th>\n",
              "      <td>0.420972</td>\n",
              "      <td>-0.516604</td>\n",
              "      <td>0.763651</td>\n",
              "      <td>0.091203</td>\n",
              "      <td>1.000000</td>\n",
              "      <td>-0.302188</td>\n",
              "      <td>0.731470</td>\n",
              "      <td>-0.769230</td>\n",
              "      <td>0.611441</td>\n",
              "      <td>0.668023</td>\n",
              "      <td>0.188933</td>\n",
              "      <td>-0.380051</td>\n",
              "      <td>0.590879</td>\n",
              "      <td>-0.427321</td>\n",
              "    </tr>\n",
              "    <tr>\n",
              "      <th>RM</th>\n",
              "      <td>-0.219247</td>\n",
              "      <td>0.311991</td>\n",
              "      <td>-0.391676</td>\n",
              "      <td>0.091251</td>\n",
              "      <td>-0.302188</td>\n",
              "      <td>1.000000</td>\n",
              "      <td>-0.240265</td>\n",
              "      <td>0.205246</td>\n",
              "      <td>-0.209847</td>\n",
              "      <td>-0.292048</td>\n",
              "      <td>-0.355501</td>\n",
              "      <td>0.128069</td>\n",
              "      <td>-0.613808</td>\n",
              "      <td>0.695360</td>\n",
              "    </tr>\n",
              "    <tr>\n",
              "      <th>AGE</th>\n",
              "      <td>0.352734</td>\n",
              "      <td>-0.569537</td>\n",
              "      <td>0.644779</td>\n",
              "      <td>0.086518</td>\n",
              "      <td>0.731470</td>\n",
              "      <td>-0.240265</td>\n",
              "      <td>1.000000</td>\n",
              "      <td>-0.747881</td>\n",
              "      <td>0.456022</td>\n",
              "      <td>0.506456</td>\n",
              "      <td>0.261515</td>\n",
              "      <td>-0.273534</td>\n",
              "      <td>0.602339</td>\n",
              "      <td>-0.376955</td>\n",
              "    </tr>\n",
              "    <tr>\n",
              "      <th>DIS</th>\n",
              "      <td>-0.379670</td>\n",
              "      <td>0.664408</td>\n",
              "      <td>-0.708027</td>\n",
              "      <td>-0.099176</td>\n",
              "      <td>-0.769230</td>\n",
              "      <td>0.205246</td>\n",
              "      <td>-0.747881</td>\n",
              "      <td>1.000000</td>\n",
              "      <td>-0.494588</td>\n",
              "      <td>-0.534432</td>\n",
              "      <td>-0.232471</td>\n",
              "      <td>0.291512</td>\n",
              "      <td>-0.496996</td>\n",
              "      <td>0.249929</td>\n",
              "    </tr>\n",
              "    <tr>\n",
              "      <th>RAD</th>\n",
              "      <td>0.625505</td>\n",
              "      <td>-0.311948</td>\n",
              "      <td>0.595129</td>\n",
              "      <td>-0.007368</td>\n",
              "      <td>0.611441</td>\n",
              "      <td>-0.209847</td>\n",
              "      <td>0.456022</td>\n",
              "      <td>-0.494588</td>\n",
              "      <td>1.000000</td>\n",
              "      <td>0.910228</td>\n",
              "      <td>0.464741</td>\n",
              "      <td>-0.444413</td>\n",
              "      <td>0.488676</td>\n",
              "      <td>-0.381626</td>\n",
              "    </tr>\n",
              "    <tr>\n",
              "      <th>TAX</th>\n",
              "      <td>0.582764</td>\n",
              "      <td>-0.314563</td>\n",
              "      <td>0.720760</td>\n",
              "      <td>-0.035587</td>\n",
              "      <td>0.668023</td>\n",
              "      <td>-0.292048</td>\n",
              "      <td>0.506456</td>\n",
              "      <td>-0.534432</td>\n",
              "      <td>0.910228</td>\n",
              "      <td>1.000000</td>\n",
              "      <td>0.460853</td>\n",
              "      <td>-0.441808</td>\n",
              "      <td>0.543993</td>\n",
              "      <td>-0.468536</td>\n",
              "    </tr>\n",
              "    <tr>\n",
              "      <th>PTRATIO</th>\n",
              "      <td>0.289946</td>\n",
              "      <td>-0.391679</td>\n",
              "      <td>0.383248</td>\n",
              "      <td>-0.121515</td>\n",
              "      <td>0.188933</td>\n",
              "      <td>-0.355501</td>\n",
              "      <td>0.261515</td>\n",
              "      <td>-0.232471</td>\n",
              "      <td>0.464741</td>\n",
              "      <td>0.460853</td>\n",
              "      <td>1.000000</td>\n",
              "      <td>-0.177383</td>\n",
              "      <td>0.374044</td>\n",
              "      <td>-0.507787</td>\n",
              "    </tr>\n",
              "    <tr>\n",
              "      <th>B</th>\n",
              "      <td>-0.385064</td>\n",
              "      <td>0.175520</td>\n",
              "      <td>-0.356977</td>\n",
              "      <td>0.048788</td>\n",
              "      <td>-0.380051</td>\n",
              "      <td>0.128069</td>\n",
              "      <td>-0.273534</td>\n",
              "      <td>0.291512</td>\n",
              "      <td>-0.444413</td>\n",
              "      <td>-0.441808</td>\n",
              "      <td>-0.177383</td>\n",
              "      <td>1.000000</td>\n",
              "      <td>-0.366087</td>\n",
              "      <td>0.333461</td>\n",
              "    </tr>\n",
              "    <tr>\n",
              "      <th>LSTAT</th>\n",
              "      <td>0.455621</td>\n",
              "      <td>-0.412995</td>\n",
              "      <td>0.603800</td>\n",
              "      <td>-0.053929</td>\n",
              "      <td>0.590879</td>\n",
              "      <td>-0.613808</td>\n",
              "      <td>0.602339</td>\n",
              "      <td>-0.496996</td>\n",
              "      <td>0.488676</td>\n",
              "      <td>0.543993</td>\n",
              "      <td>0.374044</td>\n",
              "      <td>-0.366087</td>\n",
              "      <td>1.000000</td>\n",
              "      <td>-0.737663</td>\n",
              "    </tr>\n",
              "    <tr>\n",
              "      <th>MEDV</th>\n",
              "      <td>-0.388305</td>\n",
              "      <td>0.360445</td>\n",
              "      <td>-0.483725</td>\n",
              "      <td>0.175260</td>\n",
              "      <td>-0.427321</td>\n",
              "      <td>0.695360</td>\n",
              "      <td>-0.376955</td>\n",
              "      <td>0.249929</td>\n",
              "      <td>-0.381626</td>\n",
              "      <td>-0.468536</td>\n",
              "      <td>-0.507787</td>\n",
              "      <td>0.333461</td>\n",
              "      <td>-0.737663</td>\n",
              "      <td>1.000000</td>\n",
              "    </tr>\n",
              "  </tbody>\n",
              "</table>\n",
              "</div>\n",
              "      <button class=\"colab-df-convert\" onclick=\"convertToInteractive('df-3c793c74-3db3-48ff-9953-c4922481fce4')\"\n",
              "              title=\"Convert this dataframe to an interactive table.\"\n",
              "              style=\"display:none;\">\n",
              "        \n",
              "  <svg xmlns=\"http://www.w3.org/2000/svg\" height=\"24px\"viewBox=\"0 0 24 24\"\n",
              "       width=\"24px\">\n",
              "    <path d=\"M0 0h24v24H0V0z\" fill=\"none\"/>\n",
              "    <path d=\"M18.56 5.44l.94 2.06.94-2.06 2.06-.94-2.06-.94-.94-2.06-.94 2.06-2.06.94zm-11 1L8.5 8.5l.94-2.06 2.06-.94-2.06-.94L8.5 2.5l-.94 2.06-2.06.94zm10 10l.94 2.06.94-2.06 2.06-.94-2.06-.94-.94-2.06-.94 2.06-2.06.94z\"/><path d=\"M17.41 7.96l-1.37-1.37c-.4-.4-.92-.59-1.43-.59-.52 0-1.04.2-1.43.59L10.3 9.45l-7.72 7.72c-.78.78-.78 2.05 0 2.83L4 21.41c.39.39.9.59 1.41.59.51 0 1.02-.2 1.41-.59l7.78-7.78 2.81-2.81c.8-.78.8-2.07 0-2.86zM5.41 20L4 18.59l7.72-7.72 1.47 1.35L5.41 20z\"/>\n",
              "  </svg>\n",
              "      </button>\n",
              "      \n",
              "  <style>\n",
              "    .colab-df-container {\n",
              "      display:flex;\n",
              "      flex-wrap:wrap;\n",
              "      gap: 12px;\n",
              "    }\n",
              "\n",
              "    .colab-df-convert {\n",
              "      background-color: #E8F0FE;\n",
              "      border: none;\n",
              "      border-radius: 50%;\n",
              "      cursor: pointer;\n",
              "      display: none;\n",
              "      fill: #1967D2;\n",
              "      height: 32px;\n",
              "      padding: 0 0 0 0;\n",
              "      width: 32px;\n",
              "    }\n",
              "\n",
              "    .colab-df-convert:hover {\n",
              "      background-color: #E2EBFA;\n",
              "      box-shadow: 0px 1px 2px rgba(60, 64, 67, 0.3), 0px 1px 3px 1px rgba(60, 64, 67, 0.15);\n",
              "      fill: #174EA6;\n",
              "    }\n",
              "\n",
              "    [theme=dark] .colab-df-convert {\n",
              "      background-color: #3B4455;\n",
              "      fill: #D2E3FC;\n",
              "    }\n",
              "\n",
              "    [theme=dark] .colab-df-convert:hover {\n",
              "      background-color: #434B5C;\n",
              "      box-shadow: 0px 1px 3px 1px rgba(0, 0, 0, 0.15);\n",
              "      filter: drop-shadow(0px 1px 2px rgba(0, 0, 0, 0.3));\n",
              "      fill: #FFFFFF;\n",
              "    }\n",
              "  </style>\n",
              "\n",
              "      <script>\n",
              "        const buttonEl =\n",
              "          document.querySelector('#df-3c793c74-3db3-48ff-9953-c4922481fce4 button.colab-df-convert');\n",
              "        buttonEl.style.display =\n",
              "          google.colab.kernel.accessAllowed ? 'block' : 'none';\n",
              "\n",
              "        async function convertToInteractive(key) {\n",
              "          const element = document.querySelector('#df-3c793c74-3db3-48ff-9953-c4922481fce4');\n",
              "          const dataTable =\n",
              "            await google.colab.kernel.invokeFunction('convertToInteractive',\n",
              "                                                     [key], {});\n",
              "          if (!dataTable) return;\n",
              "\n",
              "          const docLinkHtml = 'Like what you see? Visit the ' +\n",
              "            '<a target=\"_blank\" href=https://colab.research.google.com/notebooks/data_table.ipynb>data table notebook</a>'\n",
              "            + ' to learn more about interactive tables.';\n",
              "          element.innerHTML = '';\n",
              "          dataTable['output_type'] = 'display_data';\n",
              "          await google.colab.output.renderOutput(dataTable, element);\n",
              "          const docLink = document.createElement('div');\n",
              "          docLink.innerHTML = docLinkHtml;\n",
              "          element.appendChild(docLink);\n",
              "        }\n",
              "      </script>\n",
              "    </div>\n",
              "  </div>\n",
              "  "
            ]
          },
          "metadata": {},
          "execution_count": 153
        }
      ]
    },
    {
      "cell_type": "markdown",
      "id": "apparent-swedish",
      "metadata": {
        "id": "apparent-swedish"
      },
      "source": [
        "### TODO #5: 挑選特徵，並進行說明\n",
        "- 觀察 heatmap 中具有\"顯著\"正相關或是\"顯著\"負相關的特徵\n",
        "- 把這些特徵進行 concatenation，得到新的 dataframe"
      ]
    },
    {
      "cell_type": "markdown",
      "source": [
        "我挑選特徵的方式是由越接近+1及-1的先選，但是我發現只選二到三個參數loss無法下降，因此我後來總共挑了12個特徵作為輸入"
      ],
      "metadata": {
        "id": "n6c2RZG-wMwf"
      },
      "id": "n6c2RZG-wMwf"
    },
    {
      "cell_type": "code",
      "execution_count": 154,
      "id": "loaded-belize",
      "metadata": {
        "colab": {
          "base_uri": "https://localhost:8080/",
          "height": 424
        },
        "id": "loaded-belize",
        "outputId": "5603af9d-87c2-4020-fed3-80ff9c2af519"
      },
      "outputs": [
        {
          "output_type": "execute_result",
          "data": {
            "text/plain": [
              "        CRIM    ZN  INDUS    NOX     RM   AGE     DIS  RAD    TAX  PTRATIO  \\\n",
              "0    0.00632  18.0   2.31  0.538  6.575  65.2  4.0900  1.0  296.0     15.3   \n",
              "1    0.02731   0.0   7.07  0.469  6.421  78.9  4.9671  2.0  242.0     17.8   \n",
              "2    0.02729   0.0   7.07  0.469  7.185  61.1  4.9671  2.0  242.0     17.8   \n",
              "3    0.03237   0.0   2.18  0.458  6.998  45.8  6.0622  3.0  222.0     18.7   \n",
              "4    0.06905   0.0   2.18  0.458  7.147  54.2  6.0622  3.0  222.0     18.7   \n",
              "..       ...   ...    ...    ...    ...   ...     ...  ...    ...      ...   \n",
              "501  0.06263   0.0  11.93  0.573  6.593  69.1  2.4786  1.0  273.0     21.0   \n",
              "502  0.04527   0.0  11.93  0.573  6.120  76.7  2.2875  1.0  273.0     21.0   \n",
              "503  0.06076   0.0  11.93  0.573  6.976  91.0  2.1675  1.0  273.0     21.0   \n",
              "504  0.10959   0.0  11.93  0.573  6.794  89.3  2.3889  1.0  273.0     21.0   \n",
              "505  0.04741   0.0  11.93  0.573  6.030  80.8  2.5050  1.0  273.0     21.0   \n",
              "\n",
              "          B  LSTAT  \n",
              "0    396.90   4.98  \n",
              "1    396.90   9.14  \n",
              "2    392.83   4.03  \n",
              "3    394.63   2.94  \n",
              "4    396.90   5.33  \n",
              "..      ...    ...  \n",
              "501  391.99   9.67  \n",
              "502  396.90   9.08  \n",
              "503  396.90   5.64  \n",
              "504  393.45   6.48  \n",
              "505  396.90   7.88  \n",
              "\n",
              "[506 rows x 12 columns]"
            ],
            "text/html": [
              "\n",
              "  <div id=\"df-eba52c7c-2ba4-47e7-ab7c-635877c65d1a\">\n",
              "    <div class=\"colab-df-container\">\n",
              "      <div>\n",
              "<style scoped>\n",
              "    .dataframe tbody tr th:only-of-type {\n",
              "        vertical-align: middle;\n",
              "    }\n",
              "\n",
              "    .dataframe tbody tr th {\n",
              "        vertical-align: top;\n",
              "    }\n",
              "\n",
              "    .dataframe thead th {\n",
              "        text-align: right;\n",
              "    }\n",
              "</style>\n",
              "<table border=\"1\" class=\"dataframe\">\n",
              "  <thead>\n",
              "    <tr style=\"text-align: right;\">\n",
              "      <th></th>\n",
              "      <th>CRIM</th>\n",
              "      <th>ZN</th>\n",
              "      <th>INDUS</th>\n",
              "      <th>NOX</th>\n",
              "      <th>RM</th>\n",
              "      <th>AGE</th>\n",
              "      <th>DIS</th>\n",
              "      <th>RAD</th>\n",
              "      <th>TAX</th>\n",
              "      <th>PTRATIO</th>\n",
              "      <th>B</th>\n",
              "      <th>LSTAT</th>\n",
              "    </tr>\n",
              "  </thead>\n",
              "  <tbody>\n",
              "    <tr>\n",
              "      <th>0</th>\n",
              "      <td>0.00632</td>\n",
              "      <td>18.0</td>\n",
              "      <td>2.31</td>\n",
              "      <td>0.538</td>\n",
              "      <td>6.575</td>\n",
              "      <td>65.2</td>\n",
              "      <td>4.0900</td>\n",
              "      <td>1.0</td>\n",
              "      <td>296.0</td>\n",
              "      <td>15.3</td>\n",
              "      <td>396.90</td>\n",
              "      <td>4.98</td>\n",
              "    </tr>\n",
              "    <tr>\n",
              "      <th>1</th>\n",
              "      <td>0.02731</td>\n",
              "      <td>0.0</td>\n",
              "      <td>7.07</td>\n",
              "      <td>0.469</td>\n",
              "      <td>6.421</td>\n",
              "      <td>78.9</td>\n",
              "      <td>4.9671</td>\n",
              "      <td>2.0</td>\n",
              "      <td>242.0</td>\n",
              "      <td>17.8</td>\n",
              "      <td>396.90</td>\n",
              "      <td>9.14</td>\n",
              "    </tr>\n",
              "    <tr>\n",
              "      <th>2</th>\n",
              "      <td>0.02729</td>\n",
              "      <td>0.0</td>\n",
              "      <td>7.07</td>\n",
              "      <td>0.469</td>\n",
              "      <td>7.185</td>\n",
              "      <td>61.1</td>\n",
              "      <td>4.9671</td>\n",
              "      <td>2.0</td>\n",
              "      <td>242.0</td>\n",
              "      <td>17.8</td>\n",
              "      <td>392.83</td>\n",
              "      <td>4.03</td>\n",
              "    </tr>\n",
              "    <tr>\n",
              "      <th>3</th>\n",
              "      <td>0.03237</td>\n",
              "      <td>0.0</td>\n",
              "      <td>2.18</td>\n",
              "      <td>0.458</td>\n",
              "      <td>6.998</td>\n",
              "      <td>45.8</td>\n",
              "      <td>6.0622</td>\n",
              "      <td>3.0</td>\n",
              "      <td>222.0</td>\n",
              "      <td>18.7</td>\n",
              "      <td>394.63</td>\n",
              "      <td>2.94</td>\n",
              "    </tr>\n",
              "    <tr>\n",
              "      <th>4</th>\n",
              "      <td>0.06905</td>\n",
              "      <td>0.0</td>\n",
              "      <td>2.18</td>\n",
              "      <td>0.458</td>\n",
              "      <td>7.147</td>\n",
              "      <td>54.2</td>\n",
              "      <td>6.0622</td>\n",
              "      <td>3.0</td>\n",
              "      <td>222.0</td>\n",
              "      <td>18.7</td>\n",
              "      <td>396.90</td>\n",
              "      <td>5.33</td>\n",
              "    </tr>\n",
              "    <tr>\n",
              "      <th>...</th>\n",
              "      <td>...</td>\n",
              "      <td>...</td>\n",
              "      <td>...</td>\n",
              "      <td>...</td>\n",
              "      <td>...</td>\n",
              "      <td>...</td>\n",
              "      <td>...</td>\n",
              "      <td>...</td>\n",
              "      <td>...</td>\n",
              "      <td>...</td>\n",
              "      <td>...</td>\n",
              "      <td>...</td>\n",
              "    </tr>\n",
              "    <tr>\n",
              "      <th>501</th>\n",
              "      <td>0.06263</td>\n",
              "      <td>0.0</td>\n",
              "      <td>11.93</td>\n",
              "      <td>0.573</td>\n",
              "      <td>6.593</td>\n",
              "      <td>69.1</td>\n",
              "      <td>2.4786</td>\n",
              "      <td>1.0</td>\n",
              "      <td>273.0</td>\n",
              "      <td>21.0</td>\n",
              "      <td>391.99</td>\n",
              "      <td>9.67</td>\n",
              "    </tr>\n",
              "    <tr>\n",
              "      <th>502</th>\n",
              "      <td>0.04527</td>\n",
              "      <td>0.0</td>\n",
              "      <td>11.93</td>\n",
              "      <td>0.573</td>\n",
              "      <td>6.120</td>\n",
              "      <td>76.7</td>\n",
              "      <td>2.2875</td>\n",
              "      <td>1.0</td>\n",
              "      <td>273.0</td>\n",
              "      <td>21.0</td>\n",
              "      <td>396.90</td>\n",
              "      <td>9.08</td>\n",
              "    </tr>\n",
              "    <tr>\n",
              "      <th>503</th>\n",
              "      <td>0.06076</td>\n",
              "      <td>0.0</td>\n",
              "      <td>11.93</td>\n",
              "      <td>0.573</td>\n",
              "      <td>6.976</td>\n",
              "      <td>91.0</td>\n",
              "      <td>2.1675</td>\n",
              "      <td>1.0</td>\n",
              "      <td>273.0</td>\n",
              "      <td>21.0</td>\n",
              "      <td>396.90</td>\n",
              "      <td>5.64</td>\n",
              "    </tr>\n",
              "    <tr>\n",
              "      <th>504</th>\n",
              "      <td>0.10959</td>\n",
              "      <td>0.0</td>\n",
              "      <td>11.93</td>\n",
              "      <td>0.573</td>\n",
              "      <td>6.794</td>\n",
              "      <td>89.3</td>\n",
              "      <td>2.3889</td>\n",
              "      <td>1.0</td>\n",
              "      <td>273.0</td>\n",
              "      <td>21.0</td>\n",
              "      <td>393.45</td>\n",
              "      <td>6.48</td>\n",
              "    </tr>\n",
              "    <tr>\n",
              "      <th>505</th>\n",
              "      <td>0.04741</td>\n",
              "      <td>0.0</td>\n",
              "      <td>11.93</td>\n",
              "      <td>0.573</td>\n",
              "      <td>6.030</td>\n",
              "      <td>80.8</td>\n",
              "      <td>2.5050</td>\n",
              "      <td>1.0</td>\n",
              "      <td>273.0</td>\n",
              "      <td>21.0</td>\n",
              "      <td>396.90</td>\n",
              "      <td>7.88</td>\n",
              "    </tr>\n",
              "  </tbody>\n",
              "</table>\n",
              "<p>506 rows × 12 columns</p>\n",
              "</div>\n",
              "      <button class=\"colab-df-convert\" onclick=\"convertToInteractive('df-eba52c7c-2ba4-47e7-ab7c-635877c65d1a')\"\n",
              "              title=\"Convert this dataframe to an interactive table.\"\n",
              "              style=\"display:none;\">\n",
              "        \n",
              "  <svg xmlns=\"http://www.w3.org/2000/svg\" height=\"24px\"viewBox=\"0 0 24 24\"\n",
              "       width=\"24px\">\n",
              "    <path d=\"M0 0h24v24H0V0z\" fill=\"none\"/>\n",
              "    <path d=\"M18.56 5.44l.94 2.06.94-2.06 2.06-.94-2.06-.94-.94-2.06-.94 2.06-2.06.94zm-11 1L8.5 8.5l.94-2.06 2.06-.94-2.06-.94L8.5 2.5l-.94 2.06-2.06.94zm10 10l.94 2.06.94-2.06 2.06-.94-2.06-.94-.94-2.06-.94 2.06-2.06.94z\"/><path d=\"M17.41 7.96l-1.37-1.37c-.4-.4-.92-.59-1.43-.59-.52 0-1.04.2-1.43.59L10.3 9.45l-7.72 7.72c-.78.78-.78 2.05 0 2.83L4 21.41c.39.39.9.59 1.41.59.51 0 1.02-.2 1.41-.59l7.78-7.78 2.81-2.81c.8-.78.8-2.07 0-2.86zM5.41 20L4 18.59l7.72-7.72 1.47 1.35L5.41 20z\"/>\n",
              "  </svg>\n",
              "      </button>\n",
              "      \n",
              "  <style>\n",
              "    .colab-df-container {\n",
              "      display:flex;\n",
              "      flex-wrap:wrap;\n",
              "      gap: 12px;\n",
              "    }\n",
              "\n",
              "    .colab-df-convert {\n",
              "      background-color: #E8F0FE;\n",
              "      border: none;\n",
              "      border-radius: 50%;\n",
              "      cursor: pointer;\n",
              "      display: none;\n",
              "      fill: #1967D2;\n",
              "      height: 32px;\n",
              "      padding: 0 0 0 0;\n",
              "      width: 32px;\n",
              "    }\n",
              "\n",
              "    .colab-df-convert:hover {\n",
              "      background-color: #E2EBFA;\n",
              "      box-shadow: 0px 1px 2px rgba(60, 64, 67, 0.3), 0px 1px 3px 1px rgba(60, 64, 67, 0.15);\n",
              "      fill: #174EA6;\n",
              "    }\n",
              "\n",
              "    [theme=dark] .colab-df-convert {\n",
              "      background-color: #3B4455;\n",
              "      fill: #D2E3FC;\n",
              "    }\n",
              "\n",
              "    [theme=dark] .colab-df-convert:hover {\n",
              "      background-color: #434B5C;\n",
              "      box-shadow: 0px 1px 3px 1px rgba(0, 0, 0, 0.15);\n",
              "      filter: drop-shadow(0px 1px 2px rgba(0, 0, 0, 0.3));\n",
              "      fill: #FFFFFF;\n",
              "    }\n",
              "  </style>\n",
              "\n",
              "      <script>\n",
              "        const buttonEl =\n",
              "          document.querySelector('#df-eba52c7c-2ba4-47e7-ab7c-635877c65d1a button.colab-df-convert');\n",
              "        buttonEl.style.display =\n",
              "          google.colab.kernel.accessAllowed ? 'block' : 'none';\n",
              "\n",
              "        async function convertToInteractive(key) {\n",
              "          const element = document.querySelector('#df-eba52c7c-2ba4-47e7-ab7c-635877c65d1a');\n",
              "          const dataTable =\n",
              "            await google.colab.kernel.invokeFunction('convertToInteractive',\n",
              "                                                     [key], {});\n",
              "          if (!dataTable) return;\n",
              "\n",
              "          const docLinkHtml = 'Like what you see? Visit the ' +\n",
              "            '<a target=\"_blank\" href=https://colab.research.google.com/notebooks/data_table.ipynb>data table notebook</a>'\n",
              "            + ' to learn more about interactive tables.';\n",
              "          element.innerHTML = '';\n",
              "          dataTable['output_type'] = 'display_data';\n",
              "          await google.colab.output.renderOutput(dataTable, element);\n",
              "          const docLink = document.createElement('div');\n",
              "          docLink.innerHTML = docLinkHtml;\n",
              "          element.appendChild(docLink);\n",
              "        }\n",
              "      </script>\n",
              "    </div>\n",
              "  </div>\n",
              "  "
            ]
          },
          "metadata": {},
          "execution_count": 154
        }
      ],
      "source": [
        "X = pd.DataFrame(np.c_[df.CRIM, df.ZN, df.INDUS, df.NOX, df.RM, df.AGE,\n",
        "    df.DIS, df.RAD, df.TAX, df.PTRATIO, df.B, df.LSTAT], # Please put features inside the bracket\n",
        "      columns = ['CRIM', 'ZN', 'INDUS', 'NOX', 'RM', 'AGE', 'DIS', 'RAD', 'TAX', 'PTRATIO', 'B', 'LSTAT'] # Please put feature names here \n",
        "        )\n",
        "X"
      ]
    },
    {
      "cell_type": "markdown",
      "id": "objective-stretch",
      "metadata": {
        "id": "objective-stretch"
      },
      "source": [
        "### TODO #6: 呈現特徵分佈，並進行說明\n",
        "- 把你選取到的\"重要特徵\"進行subplots，畫出散佈圖 (scatter plots)\n",
        "- 每一張圖的X軸是你選到的特徵、Y軸是房價('MEDV')"
      ]
    },
    {
      "cell_type": "markdown",
      "source": [
        "由圖可以看出各項數據對於房價的分布圖"
      ],
      "metadata": {
        "id": "Nu69tBvo73yG"
      },
      "id": "Nu69tBvo73yG"
    },
    {
      "cell_type": "code",
      "execution_count": 155,
      "id": "specific-quantum",
      "metadata": {
        "colab": {
          "base_uri": "https://localhost:8080/",
          "height": 282
        },
        "id": "specific-quantum",
        "outputId": "546451c1-eecc-45d5-8cf5-077cb9e19001"
      },
      "outputs": [
        {
          "output_type": "execute_result",
          "data": {
            "text/plain": [
              "<matplotlib.collections.PathCollection at 0x7f8e88a0ae50>"
            ]
          },
          "metadata": {},
          "execution_count": 155
        },
        {
          "output_type": "display_data",
          "data": {
            "text/plain": [
              "<Figure size 432x288 with 1 Axes>"
            ],
            "image/png": "[encoded data removed]"
          },
          "metadata": {
            "needs_background": "light"
          }
        }
      ],
      "source": [
        "# Please plot subplots here\n",
        "data_x = ['CRIM', 'ZN', 'INDUS', 'NOX', 'RM', 'AGE', 'DIS', 'RAD', 'TAX', 'PTRATIO', 'B', 'LSTAT']\n",
        "plt.scatter( df.CRIM, df.MEDV)\n",
        "plt.scatter( df.ZN, df.MEDV)\n",
        "plt.scatter( df.INDUS, df.MEDV)\n",
        "plt.scatter( df.NOX, df.MEDV)\n",
        "plt.scatter( df.RM, df.MEDV)\n",
        "plt.scatter( df.AGE, df.MEDV)\n",
        "plt.scatter( df.DIS, df.MEDV)\n",
        "plt.scatter( df.RAD, df.MEDV)\n",
        "plt.scatter( df.TAX, df.MEDV)\n",
        "plt.scatter( df.PTRATIO, df.MEDV)\n",
        "plt.scatter( df.B, df.MEDV)\n",
        "plt.scatter( df.LSTAT, df.MEDV)"
      ]
    },
    {
      "cell_type": "markdown",
      "id": "alleged-ontario",
      "metadata": {
        "id": "alleged-ontario"
      },
      "source": [
        "## 訓練模型前的準備\n",
        "### TODO #7: 切分資料\n",
        "- 利用 train_test_split，將資料切成 train set 和 test set\n",
        "- 設定 train set 的比例為全部資料的 80%\n",
        "- 請記得設定 random_state 以控制隨機過程"
      ]
    },
    {
      "cell_type": "code",
      "execution_count": 156,
      "id": "renewable-bankruptcy",
      "metadata": {
        "colab": {
          "base_uri": "https://localhost:8080/"
        },
        "id": "renewable-bankruptcy",
        "outputId": "28ef6a85-80b9-48d6-f149-1c0418f31ef9"
      },
      "outputs": [
        {
          "output_type": "stream",
          "name": "stdout",
          "text": [
            "(404, 12)\n",
            "(102, 12)\n",
            "(404,)\n",
            "(102,)\n"
          ]
        }
      ],
      "source": [
        "from sklearn.model_selection import train_test_split\n",
        "\n",
        "X_train, X_test, Y_train, Y_test = train_test_split(X, df.MEDV, test_size = 0.2, random_state = 9487)\n",
        "\n",
        "print(X_train.shape) #(404, 2)\n",
        "print(X_test.shape) #(102, 2)\n",
        "print(Y_train.shape) #(404, )\n",
        "print(Y_test.shape) #(102, )"
      ]
    },
    {
      "cell_type": "markdown",
      "id": "expanded-longer",
      "metadata": {
        "id": "expanded-longer"
      },
      "source": [
        "## 訓練模型並進行評估"
      ]
    },
    {
      "cell_type": "markdown",
      "id": "seasonal-honor",
      "metadata": {
        "id": "seasonal-honor"
      },
      "source": [
        "### TODO #8: 訓練 Linear Regression 模型，並說明訓練結果\n",
        "- 利用 scikit-learn，將資料 fit 在 LinearRegression\n",
        "- 將結果繪製成散佈圖 (scatter plot)，其中 X軸 為 Y_pred、Y軸為 Y_true"
      ]
    },
    {
      "cell_type": "markdown",
      "source": [
        "由結果圖來看，其中的點有接近線性回歸的概念"
      ],
      "metadata": {
        "id": "6Wu2mEKS8MvB"
      },
      "id": "6Wu2mEKS8MvB"
    },
    {
      "cell_type": "code",
      "execution_count": 157,
      "id": "vital-classics",
      "metadata": {
        "colab": {
          "base_uri": "https://localhost:8080/"
        },
        "id": "vital-classics",
        "outputId": "9d6eac2a-0cee-481d-b81c-5d8ca783a21b"
      },
      "outputs": [
        {
          "output_type": "stream",
          "name": "stdout",
          "text": [
            "Model slope:     [-1.11466430e-01  4.66512470e-02  3.18705849e-02 -1.66679788e+01\n",
            "  3.41601502e+00  2.96284208e-03 -1.51461548e+00  3.23461918e-01\n",
            " -1.40788793e-02 -9.91769086e-01  9.25379152e-03 -5.38131769e-01]\n",
            "Model intercept: 39.804096574095176\n"
          ]
        }
      ],
      "source": [
        "# Modeling\n",
        "from sklearn.linear_model import LinearRegression\n",
        "\n",
        "model_LR = LinearRegression(fit_intercept=True)\n",
        "\n",
        "model_LR.fit(X_train, Y_train)\n",
        "\n",
        "print(\"Model slope:    \", model_LR.coef_)\n",
        "print(\"Model intercept:\", model_LR.intercept_)"
      ]
    },
    {
      "cell_type": "code",
      "execution_count": 158,
      "id": "sixth-voltage",
      "metadata": {
        "colab": {
          "base_uri": "https://localhost:8080/",
          "height": 282
        },
        "id": "sixth-voltage",
        "outputId": "4982df6e-d85d-4562-f550-aec3aebc339a"
      },
      "outputs": [
        {
          "output_type": "execute_result",
          "data": {
            "text/plain": [
              "<matplotlib.collections.PathCollection at 0x7f8e889dde50>"
            ]
          },
          "metadata": {},
          "execution_count": 158
        },
        {
          "output_type": "display_data",
          "data": {
            "text/plain": [
              "<Figure size 432x288 with 1 Axes>"
            ],
            "image/png": "[encoded data removed]"
          },
          "metadata": {
            "needs_background": "light"
          }
        }
      ],
      "source": [
        "# plotting the y_test vs y_pred\n",
        "\n",
        "Y_pred = model_LR.predict(X_test)\n",
        "Y_true = Y_test\n",
        "plt.scatter(Y_pred, Y_true)"
      ]
    },
    {
      "cell_type": "markdown",
      "id": "progressive-perth",
      "metadata": {
        "id": "progressive-perth"
      },
      "source": [
        "### TODO #9: 訓練 Random Forest Regressor 模型\n",
        "- 利用 scikit-learn，將資料 fit 在 RandomForestRegressor 模型\n",
        "- 將結果繪製成散佈圖 (scatter plot)，其中 X軸 為 Y_pred、Y軸為 Y_true"
      ]
    },
    {
      "cell_type": "code",
      "execution_count": 159,
      "id": "third-yield",
      "metadata": {
        "id": "third-yield"
      },
      "outputs": [],
      "source": [
        "from sklearn import ensemble\n",
        "from sklearn.ensemble import RandomForestRegressor"
      ]
    },
    {
      "cell_type": "code",
      "execution_count": 160,
      "id": "homeless-twelve",
      "metadata": {
        "colab": {
          "base_uri": "https://localhost:8080/"
        },
        "id": "homeless-twelve",
        "outputId": "5a6e01d5-aedf-4741-d456-6a38afe50c20"
      },
      "outputs": [
        {
          "output_type": "execute_result",
          "data": {
            "text/plain": [
              "RandomForestRegressor(random_state=9487)"
            ]
          },
          "metadata": {},
          "execution_count": 160
        }
      ],
      "source": [
        "# Modeling\n",
        "\n",
        "model_RFR = ensemble.RandomForestRegressor(random_state = 9487)\n",
        "model_RFR.fit(X_train, Y_train)\n"
      ]
    },
    {
      "cell_type": "code",
      "execution_count": 161,
      "id": "temporal-strand",
      "metadata": {
        "colab": {
          "base_uri": "https://localhost:8080/",
          "height": 282
        },
        "id": "temporal-strand",
        "outputId": "3bac3f70-c0f9-4826-fab8-6d5964fde5ce"
      },
      "outputs": [
        {
          "output_type": "execute_result",
          "data": {
            "text/plain": [
              "<matplotlib.collections.PathCollection at 0x7f8e889bb450>"
            ]
          },
          "metadata": {},
          "execution_count": 161
        },
        {
          "output_type": "display_data",
          "data": {
            "text/plain": [
              "<Figure size 432x288 with 1 Axes>"
            ],
            "image/png": "[encoded data removed]"
          },
          "metadata": {
            "needs_background": "light"
          }
        }
      ],
      "source": [
        "# plotting the y_test vs y_pred\n",
        "\n",
        "y_pred = model_RFR.predict(X_test)\n",
        "Y_true = Y_test\n",
        "plt.scatter(Y_pred, Y_true)\n"
      ]
    },
    {
      "cell_type": "markdown",
      "id": "presidential-scotland",
      "metadata": {
        "id": "presidential-scotland"
      },
      "source": [
        "### TODO #10: 參數調整，並進行說明\n",
        "- 請嘗試使用 Grid search 來進行調參\n",
        "    - 可以自己寫 for-loop\n",
        "    - 或是使用 sklearn.model_selection 中的 GridSearchCV 函式"
      ]
    },
    {
      "cell_type": "markdown",
      "source": [
        "我調了很多參數，全部都在程式的註解裡，\n",
        "我查了一些參考範圍的值再自行微調。"
      ],
      "metadata": {
        "id": "S4YYkOPw4VKE"
      },
      "id": "S4YYkOPw4VKE"
    },
    {
      "cell_type": "code",
      "execution_count": 162,
      "id": "scheduled-wellington",
      "metadata": {
        "id": "scheduled-wellington"
      },
      "outputs": [],
      "source": [
        "from sklearn.model_selection import GridSearchCV"
      ]
    },
    {
      "cell_type": "code",
      "execution_count": 163,
      "id": "apart-thesaurus",
      "metadata": {
        "colab": {
          "base_uri": "https://localhost:8080/",
          "height": 177
        },
        "id": "apart-thesaurus",
        "outputId": "3b0ab664-499e-4a31-d860-f4263a61d4bc"
      },
      "outputs": [
        {
          "output_type": "stream",
          "name": "stdout",
          "text": [
            "{'bootstrap': True, 'ccp_alpha': 0.0, 'criterion': 'absolute_error', 'max_depth': None, 'max_features': 'sqrt', 'max_leaf_nodes': None, 'max_samples': None, 'min_impurity_decrease': 0.0, 'min_samples_leaf': 3, 'min_samples_split': 2, 'min_weight_fraction_leaf': 0.0, 'n_estimators': 200, 'n_jobs': -1, 'oob_score': False, 'random_state': 9487, 'verbose': 0, 'warm_start': False}\n"
          ]
        },
        {
          "output_type": "execute_result",
          "data": {
            "text/plain": [
              "\"\\n{'bootstrap': True, 'ccp_alpha': 0.0, 'criterion': 'absolute_error', 'max_depth': None, 'max_features': 'sqrt', 'max_leaf_nodes': None, 'max_samples': None, 'min_impurity_decrease': 0.0, 'min_samples_leaf': 2, 'min_samples_split': 2, 'min_weight_fraction_leaf': 0.0, 'n_estimators': 100, 'n_jobs': -1, 'oob_score': False, 'random_state': 9487, 'verbose': 0, 'warm_start': False}\\nMSE: 20.53 R2: 0.78 cv=10\\n\\n{'bootstrap': True, 'ccp_alpha': 0.0, 'criterion': 'absolute_error', 'max_depth': None, 'max_features': 'sqrt', 'max_leaf_nodes': None, 'max_samples': None, 'min_impurity_decrease': 0.0, 'min_samples_leaf': 3, 'min_samples_split': 2, 'min_weight_fraction_leaf': 0.0, 'n_estimators': 100, 'n_jobs': -1, 'oob_score': False, 'random_state': 9487, 'verbose': 0, 'warm_start': False}\\ntest_MSE: 20.50 test_R2: 0.78 cv=5\\n\\n{'bootstrap': True, 'ccp_alpha': 0.0, 'criterion': 'absolute_error', 'max_depth': None, 'max_features': 'sqrt', 'max_leaf_nodes': None, 'max_samples': None, 'min_impurity_decrease': 0.0, 'min_samples_leaf': 3, 'min_samples_split': 2, 'min_weight_fraction_leaf': 0.0, 'n_estimators': 200, 'n_jobs': -1, 'oob_score': False, 'random_state': 9487, 'verbose': 0, 'warm_start': False}\\ntest_MSE: 20.33 test_R2: 0.78 cv=5\\n\""
            ],
            "application/vnd.google.colaboratory.intrinsic+json": {
              "type": "string"
            }
          },
          "metadata": {},
          "execution_count": 163
        }
      ],
      "source": [
        "RFreg = RandomForestRegressor()\n",
        "params = {\n",
        "  'n_estimators': [200],#[100,200,300],#int\n",
        "  'criterion': ['absolute_error'],#['squared_error', 'absolute_error', 'poisson'],\n",
        "  'max_depth': [None],#int #None感覺比較好\n",
        "  'min_samples_split': [2],#[2,3,4],#int or float #int\n",
        "  'min_samples_leaf': [3],#[1,2,3],#int or float #int\n",
        "  'min_weight_fraction_leaf': [0.0],#[0.0,0.1,0.2],#float\n",
        "  'max_features': ['sqrt'],#['auto', 'sqrt', 'log2'],\n",
        "  'max_leaf_nodes': [None],#int\n",
        "  'min_impurity_decrease': [0.0],#float #待研究\n",
        "  'bootstrap': [True],\n",
        "  'oob_score': [False],#[False,True],#Only available if bootstrap=True\n",
        "  'n_jobs': [-1],#[-1,1,2],#int #-1 means using all processors 1==None\n",
        "  'random_state': [9487],\n",
        "  'verbose': [0],#int\n",
        "  'warm_start': [False],\n",
        "  'ccp_alpha': [0.0],#non-negative float\n",
        "  'max_samples': [None]#int or float\n",
        " }\n",
        "gridsearch=GridSearchCV(RFreg, params, cv=5, return_train_score=True, error_score='raise')\n",
        "gridsearch.fit(X_train, Y_train)\n",
        "\n",
        "print(gridsearch.best_params_)\n",
        "\n",
        "'''\n",
        "{'bootstrap': True, 'ccp_alpha': 0.0, 'criterion': 'absolute_error', 'max_depth': None, 'max_features': 'sqrt', 'max_leaf_nodes': None, 'max_samples': None, 'min_impurity_decrease': 0.0, 'min_samples_leaf': 2, 'min_samples_split': 2, 'min_weight_fraction_leaf': 0.0, 'n_estimators': 100, 'n_jobs': -1, 'oob_score': False, 'random_state': 9487, 'verbose': 0, 'warm_start': False}\n",
        "MSE: 20.53 R2: 0.78 cv=10\n",
        "\n",
        "{'bootstrap': True, 'ccp_alpha': 0.0, 'criterion': 'absolute_error', 'max_depth': None, 'max_features': 'sqrt', 'max_leaf_nodes': None, 'max_samples': None, 'min_impurity_decrease': 0.0, 'min_samples_leaf': 3, 'min_samples_split': 2, 'min_weight_fraction_leaf': 0.0, 'n_estimators': 100, 'n_jobs': -1, 'oob_score': False, 'random_state': 9487, 'verbose': 0, 'warm_start': False}\n",
        "test_MSE: 20.50 test_R2: 0.78 cv=5\n",
        "\n",
        "{'bootstrap': True, 'ccp_alpha': 0.0, 'criterion': 'absolute_error', 'max_depth': None, 'max_features': 'sqrt', 'max_leaf_nodes': None, 'max_samples': None, 'min_impurity_decrease': 0.0, 'min_samples_leaf': 3, 'min_samples_split': 2, 'min_weight_fraction_leaf': 0.0, 'n_estimators': 200, 'n_jobs': -1, 'oob_score': False, 'random_state': 9487, 'verbose': 0, 'warm_start': False}\n",
        "test_MSE: 20.33 test_R2: 0.78 cv=5\n",
        "'''"
      ]
    },
    {
      "cell_type": "code",
      "execution_count": 164,
      "id": "military-amsterdam",
      "metadata": {
        "colab": {
          "base_uri": "https://localhost:8080/"
        },
        "id": "military-amsterdam",
        "outputId": "46637cfa-2d89-4558-ba41-636ba5b0b68a"
      },
      "outputs": [
        {
          "output_type": "stream",
          "name": "stdout",
          "text": [
            "train_MSE: 6.73\n",
            "train_R2: 0.89\n",
            "test_MSE: 14.73\n",
            "test_R2: 0.84\n"
          ]
        }
      ],
      "source": [
        "from sklearn.metrics import mean_squared_error, make_scorer, r2_score\n",
        "best_estim = gridsearch.best_estimator_\n",
        "\n",
        "ytr_pred=best_estim.predict(X_train)\n",
        "mse = mean_squared_error(ytr_pred,Y_train)\n",
        "r2 = r2_score(ytr_pred,Y_train)\n",
        "\n",
        "print(\"train_MSE: %.2f\" % mse)\n",
        "print(\"train_R2: %.2f\" % r2)\n",
        "\n",
        "ypred=best_estim.predict(X_test)\n",
        "mse = mean_squared_error(Y_test, ypred)\n",
        "r2 = r2_score(Y_test, ypred)\n",
        "\n",
        "print(\"test_MSE: %.2f\" % mse)\n",
        "print(\"test_R2: %.2f\" % r2)"
      ]
    },
    {
      "cell_type": "markdown",
      "id": "regulation-holly",
      "metadata": {
        "id": "regulation-holly"
      },
      "source": [
        "### TODO #11: 訓練 其他的 regression 模型，與上述兩種模型比較並說明訓練結果\n",
        "- 將資料 fit 在其他的迴歸模型，可選擇 SVR、XGBRegressor 或其他...\n",
        "- 利用 TODO #10 的工具來進行參數調整\n",
        "- 將結果繪製成散佈圖 (scatter plot)，其中 X軸 為 Y_pred、Y軸為 Y_true"
      ]
    },
    {
      "cell_type": "markdown",
      "source": [
        "我嘗試了使用svr模型但是成效不佳，最後是採取XGBRegressor實作。\n",
        "藉由xgboost能夠將test r2由0.84提升至0.90，效果顯著"
      ],
      "metadata": {
        "id": "gfe85z8F5LgQ"
      },
      "id": "gfe85z8F5LgQ"
    },
    {
      "cell_type": "code",
      "source": [
        "'''import itertools\n",
        "list(itertools.combinations([1,2,3,4],3))'''"
      ],
      "metadata": {
        "id": "nvkODohz4ERp",
        "colab": {
          "base_uri": "https://localhost:8080/",
          "height": 35
        },
        "outputId": "76fd32c4-1d68-4025-d91a-49fc46e71e87"
      },
      "id": "nvkODohz4ERp",
      "execution_count": 165,
      "outputs": [
        {
          "output_type": "execute_result",
          "data": {
            "text/plain": [
              "'import itertools\\nlist(itertools.combinations([1,2,3,4],3))'"
            ],
            "application/vnd.google.colaboratory.intrinsic+json": {
              "type": "string"
            }
          },
          "metadata": {},
          "execution_count": 165
        }
      ]
    },
    {
      "cell_type": "code",
      "execution_count": 166,
      "id": "dominant-ideal",
      "metadata": {
        "id": "dominant-ideal",
        "colab": {
          "base_uri": "https://localhost:8080/",
          "height": 177
        },
        "outputId": "463965c1-c396-49c7-cc1c-1720fb2dbba7"
      },
      "outputs": [
        {
          "output_type": "stream",
          "name": "stdout",
          "text": [
            "{'colsample_bylevel': 0.5, 'colsample_bytree': 0.76, 'gamma': 1, 'learning_rate': 0.08, 'max_delta_step': 0, 'max_depth': 5, 'min_child_weight': 1, 'n_estimaters': 100, 'reg_alpha': 0, 'reg_lambda': 1, 'scoring': 'neg_mean_squared_error', 'subsample': 0.845}\n"
          ]
        },
        {
          "output_type": "execute_result",
          "data": {
            "text/plain": [
              "\"\\nALL\\n{'colsample_bylevel': 0.5, 'colsample_bytree': 0.75, 'gamma': 0, 'learning_rate': 0.1, 'max_delta_step': 0, 'max_depth': 5, 'min_child_weight': 1, 'n_estimaters': 100, 'reg_alpha': 0, 'reg_lambda': 1, 'subsample': 0.75}\\ntrain_MSE: 0.661382\\ntrain_R2: 0.991669\\ntest_MSE: 11.387091\\ntest_R2: 0.876254\\n\\n{'colsample_bylevel': 0.5, 'colsample_bytree': 0.75, 'gamma': 0, 'learning_rate': 0.09, 'max_delta_step': 0, 'max_depth': 6, 'min_child_weight': 1, 'n_estimaters': 100, 'reg_alpha': 0, 'reg_lambda': 1, 'subsample': 0.85}\\ntrain_MSE: 0.324242\\ntrain_R2: 0.995964\\ntest_MSE: 10.799164\\ntest_R2: 0.882643\\n\\nno normalized data\\n{'colsample_bylevel': 0.5, 'colsample_bytree': 0.76, 'gamma': 0, 'learning_rate': 0.09, 'max_delta_step': 0, 'max_depth': 6, 'min_child_weight': 1, 'n_estimaters': 100, 'reg_alpha': 0, 'reg_lambda': 1, 'scoring': 'neg_mean_squared_error', 'subsample': 0.85}\\ntrain_MSE: 0.352243\\ntrain_R2: 0.995605\\ntest_MSE: 10.741136\\ntest_R2: 0.883274\\n\\nNO CHAS\\n{'colsample_bylevel': 0.5, 'colsample_bytree': 0.76, 'gamma': 1, 'learning_rate': 0.08, 'max_delta_step': 0, 'max_depth': 5, 'min_child_weight': 1, 'n_estimaters': 100, 'reg_alpha': 0, 'reg_lambda': 1, 'scoring': 'neg_mean_squared_error', 'subsample': 0.845}\\ntrain_MSE: 0.865374\\ntrain_R2: 0.988968\\ntest_MSE: 9.066438\\ntest_R2: 0.901473\\n\""
            ],
            "application/vnd.google.colaboratory.intrinsic+json": {
              "type": "string"
            }
          },
          "metadata": {},
          "execution_count": 166
        }
      ],
      "source": [
        "from sklearn.model_selection import GridSearchCV\n",
        "import xgboost as xgb\n",
        "\n",
        "params = {\n",
        "  'seed': 9487,\n",
        "  'objective': 'reg:squarederror',\n",
        "}\n",
        "XGBreg = xgb.XGBRegressor(**params)\n",
        "cv_params = {\n",
        "  'n_estimaters': [100],#[100,105,95],\n",
        "  'learning_rate': [0.08],#[0.1,0.09,0.08], #[0，1]\n",
        "  'gamma': [1],#[0,1], #min_split_loss [0，∞]\n",
        "  'max_depth': [5],#[6,5,7], #[0，∞]\n",
        "  'min_child_weight': [1],#[1,2,0], #[0，∞]\n",
        "  'max_delta_step': [0],#[0,1], #[0，∞]\n",
        "  'subsample': [0.845],#[0.845,0.85,0.855], #(0,1]\n",
        "  'colsample_bytree': [0.76],#[0.76,0.755,0.765], #(0,1]\n",
        "  'colsample_bylevel': [0.5],#[0.5,0.51,0.49], #(0,1]\n",
        "  'reg_lambda': [1],\n",
        "  'reg_alpha': [0],\n",
        "  'scoring': ['neg_mean_squared_error'],#['neg_mean_squared_error','r2']          \n",
        "}\n",
        "gridsearch=GridSearchCV(XGBreg, cv_params, cv=5, return_train_score=True, error_score='raise')\n",
        "gridsearch.fit(X_train, Y_train)\n",
        "\n",
        "print(gridsearch.best_params_)\n",
        "\n",
        "'''\n",
        "ALL\n",
        "{'colsample_bylevel': 0.5, 'colsample_bytree': 0.75, 'gamma': 0, 'learning_rate': 0.1, 'max_delta_step': 0, 'max_depth': 5, 'min_child_weight': 1, 'n_estimaters': 100, 'reg_alpha': 0, 'reg_lambda': 1, 'subsample': 0.75}\n",
        "train_MSE: 0.661382\n",
        "train_R2: 0.991669\n",
        "test_MSE: 11.387091\n",
        "test_R2: 0.876254\n",
        "\n",
        "{'colsample_bylevel': 0.5, 'colsample_bytree': 0.75, 'gamma': 0, 'learning_rate': 0.09, 'max_delta_step': 0, 'max_depth': 6, 'min_child_weight': 1, 'n_estimaters': 100, 'reg_alpha': 0, 'reg_lambda': 1, 'subsample': 0.85}\n",
        "train_MSE: 0.324242\n",
        "train_R2: 0.995964\n",
        "test_MSE: 10.799164\n",
        "test_R2: 0.882643\n",
        "\n",
        "no normalized data\n",
        "{'colsample_bylevel': 0.5, 'colsample_bytree': 0.76, 'gamma': 0, 'learning_rate': 0.09, 'max_delta_step': 0, 'max_depth': 6, 'min_child_weight': 1, 'n_estimaters': 100, 'reg_alpha': 0, 'reg_lambda': 1, 'scoring': 'neg_mean_squared_error', 'subsample': 0.85}\n",
        "train_MSE: 0.352243\n",
        "train_R2: 0.995605\n",
        "test_MSE: 10.741136\n",
        "test_R2: 0.883274\n",
        "\n",
        "NO CHAS\n",
        "{'colsample_bylevel': 0.5, 'colsample_bytree': 0.76, 'gamma': 1, 'learning_rate': 0.08, 'max_delta_step': 0, 'max_depth': 5, 'min_child_weight': 1, 'n_estimaters': 100, 'reg_alpha': 0, 'reg_lambda': 1, 'scoring': 'neg_mean_squared_error', 'subsample': 0.845}\n",
        "train_MSE: 0.865374\n",
        "train_R2: 0.988968\n",
        "test_MSE: 9.066438\n",
        "test_R2: 0.901473\n",
        "'''"
      ]
    },
    {
      "cell_type": "code",
      "source": [
        "from sklearn.metrics import mean_squared_error, make_scorer, r2_score\n",
        "best_estim = gridsearch.best_estimator_\n",
        "\n",
        "ytr_pred=best_estim.predict(X_train)\n",
        "mse = mean_squared_error(ytr_pred,Y_train)\n",
        "r2 = r2_score(ytr_pred,Y_train)\n",
        "\n",
        "print(\"train_MSE: %f\" % mse)\n",
        "print(\"train_R2: %f\" % r2)\n",
        "\n",
        "ypred=best_estim.predict(X_test)\n",
        "mse = mean_squared_error(Y_test, ypred)\n",
        "r2 = r2_score(Y_test, ypred)\n",
        "\n",
        "print(\"test_MSE: %f\" % mse)\n",
        "print(\"test_R2: %f\" % r2)"
      ],
      "metadata": {
        "colab": {
          "base_uri": "https://localhost:8080/"
        },
        "id": "Q3b9YQ91G0z5",
        "outputId": "3b2a57d9-8b70-44bd-f1b3-c4f40b0ad6a2"
      },
      "id": "Q3b9YQ91G0z5",
      "execution_count": 167,
      "outputs": [
        {
          "output_type": "stream",
          "name": "stdout",
          "text": [
            "train_MSE: 0.865374\n",
            "train_R2: 0.988968\n",
            "test_MSE: 9.066438\n",
            "test_R2: 0.901473\n"
          ]
        }
      ]
    },
    {
      "cell_type": "markdown",
      "id": "continuous-vampire",
      "metadata": {
        "id": "continuous-vampire"
      },
      "source": [
        "### (Bonus) TODO #12: 超越助教的分數，並且說明如何做到\n",
        "- R2:  0.8831229012211493\n",
        "- Test loss (MSE):  9.150760226336033"
      ]
    },
    {
      "cell_type": "markdown",
      "source": [
        "增加參數輸入，由高度相關依序加入，再依據數據特徵微調參數輸入"
      ],
      "metadata": {
        "id": "KhzQHy1p42_N"
      },
      "id": "KhzQHy1p42_N"
    },
    {
      "cell_type": "code",
      "execution_count": 168,
      "id": "legendary-integration",
      "metadata": {
        "id": "legendary-integration",
        "colab": {
          "base_uri": "https://localhost:8080/"
        },
        "outputId": "38744d8e-54cd-4bff-9b47-04c7bedce389"
      },
      "outputs": [
        {
          "output_type": "stream",
          "name": "stdout",
          "text": [
            "total execution time: 10.326520204544067\n"
          ]
        }
      ],
      "source": [
        "# 請勿更動此區塊程式碼\n",
        "\n",
        "EXECUTION_END_TIME = time.time() # 計算執行時間\n",
        "print('total execution time: {}'.format(EXECUTION_END_TIME - EXECUTION_START_TIME))"
      ]
    }
  ],
  "metadata": {
    "kernelspec": {
      "display_name": "Python 3",
      "language": "python",
      "name": "python3"
    },
    "language_info": {
      "codemirror_mode": {
        "name": "ipython",
        "version": 3
      },
      "file_extension": ".py",
      "mimetype": "text/x-python",
      "name": "python",
      "nbconvert_exporter": "python",
      "pygments_lexer": "ipython3",
      "version": "3.8.5"
    },
    "colab": {
      "name": "資料分析main-3.ipynb",
      "provenance": [],
      "collapsed_sections": [
        "objective-stretch",
        "seasonal-honor",
        "progressive-perth",
        "presidential-scotland"
      ]
    }
  },
  "nbformat": 4,
  "nbformat_minor": 5
}